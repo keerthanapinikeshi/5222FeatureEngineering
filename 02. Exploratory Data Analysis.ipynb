{
 "cells": [
  {
   "cell_type": "markdown",
   "metadata": {},
   "source": [
    "# Exploratory Data Analysis"
   ]
  },
  {
   "cell_type": "markdown",
   "metadata": {},
   "source": [
    "In this notebook we'll do some exploratory data analysis over our dataset. However, since we don't have our features created yet, we cannot do much at this point. In addition, when we create them, we won't be able to extract many insights because of the nature of text-based features. For this reason, only a shallow analysis will be done at this point.\n",
    "\n",
    "For the plots we have used `seaborn` and `altair`. `altair` is a package which allows us to plot graphics with a simple grammar as we would do in ggplot2 or Tableau. It also provides easy-to-make interactive plots. For further information please visit the project site: https://altair-viz.github.io/.\n",
    "\n",
    "To install it, please type this command in the shell:\n",
    "\n",
    "`! conda install -c conda-forge altair vega_datasets notebook vega`"
   ]
  },
  {
   "cell_type": "code",
   "execution_count": 25,
   "metadata": {},
   "outputs": [],
   "source": [
    "import pandas as pd\n",
    "import matplotlib.pyplot as plt\n",
    "import pickle\n",
    "import seaborn as sns\n",
    "sns.set_style(\"whitegrid\")\n",
    "import altair as alt\n",
    "#alt.renderers.enable(\"notebook\")\n",
    "# Code for hiding seaborn warnings\n",
    "import warnings\n",
    "warnings.filterwarnings(\"ignore\")"
   ]
  },
  {
   "cell_type": "markdown",
   "metadata": {},
   "source": [
    "Loading the dataset:"
   ]
  },
  {
   "cell_type": "code",
   "execution_count": 26,
   "metadata": {},
   "outputs": [],
   "source": [
    "df_path = \"/Users/keerthanareddy/Downloads/Latest-News-Classifier-master/0. Latest News Classifier/01. Dataset Creation/\"\n",
    "df_path2 = df_path + 'News_dataset.csv'\n",
    "df = pd.read_csv(df_path2, sep=';')"
   ]
  },
  {
   "cell_type": "code",
   "execution_count": 27,
   "metadata": {},
   "outputs": [
    {
     "data": {
      "text/html": [
       "<div>\n",
       "<style scoped>\n",
       "    .dataframe tbody tr th:only-of-type {\n",
       "        vertical-align: middle;\n",
       "    }\n",
       "\n",
       "    .dataframe tbody tr th {\n",
       "        vertical-align: top;\n",
       "    }\n",
       "\n",
       "    .dataframe thead th {\n",
       "        text-align: right;\n",
       "    }\n",
       "</style>\n",
       "<table border=\"1\" class=\"dataframe\">\n",
       "  <thead>\n",
       "    <tr style=\"text-align: right;\">\n",
       "      <th></th>\n",
       "      <th>File_Name</th>\n",
       "      <th>Content</th>\n",
       "      <th>Category</th>\n",
       "      <th>Complete_Filename</th>\n",
       "    </tr>\n",
       "  </thead>\n",
       "  <tbody>\n",
       "    <tr>\n",
       "      <th>0</th>\n",
       "      <td>Autonomous_new_1.txt</td>\n",
       "      <td>Self-driving car dilemmas reveal that moral ch...</td>\n",
       "      <td>Audi</td>\n",
       "      <td>Autonomous_new_1.txt-Audi</td>\n",
       "    </tr>\n",
       "    <tr>\n",
       "      <th>1</th>\n",
       "      <td>Atonomous_new_3.txt</td>\n",
       "      <td>Self-driving car dilemmas reveal that moral ch...</td>\n",
       "      <td>BMW</td>\n",
       "      <td>Atonomous_new_3.txt-BMW</td>\n",
       "    </tr>\n",
       "    <tr>\n",
       "      <th>2</th>\n",
       "      <td>Autonomous_new_2.txt</td>\n",
       "      <td>Self-driving car dilemmas reveal that moral ch...</td>\n",
       "      <td>Tesla</td>\n",
       "      <td>Autonomous_new_2.txt-Tesla</td>\n",
       "    </tr>\n",
       "  </tbody>\n",
       "</table>\n",
       "</div>"
      ],
      "text/plain": [
       "              File_Name                                            Content  \\\n",
       "0  Autonomous_new_1.txt  Self-driving car dilemmas reveal that moral ch...   \n",
       "1   Atonomous_new_3.txt  Self-driving car dilemmas reveal that moral ch...   \n",
       "2  Autonomous_new_2.txt  Self-driving car dilemmas reveal that moral ch...   \n",
       "\n",
       "  Category           Complete_Filename  \n",
       "0     Audi   Autonomous_new_1.txt-Audi  \n",
       "1      BMW     Atonomous_new_3.txt-BMW  \n",
       "2    Tesla  Autonomous_new_2.txt-Tesla  "
      ]
     },
     "execution_count": 27,
     "metadata": {},
     "output_type": "execute_result"
    }
   ],
   "source": [
    "df.head()"
   ]
  },
  {
   "cell_type": "markdown",
   "metadata": {},
   "source": [
    "### Number of articles in each category"
   ]
  },
  {
   "cell_type": "code",
   "execution_count": 28,
   "metadata": {
    "scrolled": false
   },
   "outputs": [
    {
     "data": {
      "text/html": [
       "\n",
       "<div id=\"altair-viz-585af68cebcc4ce99af8fecdb9182982\"></div>\n",
       "<script type=\"text/javascript\">\n",
       "  (function(spec, embedOpt){\n",
       "    let outputDiv = document.currentScript.previousElementSibling;\n",
       "    if (outputDiv.id !== \"altair-viz-585af68cebcc4ce99af8fecdb9182982\") {\n",
       "      outputDiv = document.getElementById(\"altair-viz-585af68cebcc4ce99af8fecdb9182982\");\n",
       "    }\n",
       "    const paths = {\n",
       "      \"vega\": \"https://cdn.jsdelivr.net/npm//vega@5?noext\",\n",
       "      \"vega-lib\": \"https://cdn.jsdelivr.net/npm//vega-lib?noext\",\n",
       "      \"vega-lite\": \"https://cdn.jsdelivr.net/npm//vega-lite@4.8.1?noext\",\n",
       "      \"vega-embed\": \"https://cdn.jsdelivr.net/npm//vega-embed@6?noext\",\n",
       "    };\n",
       "\n",
       "    function loadScript(lib) {\n",
       "      return new Promise(function(resolve, reject) {\n",
       "        var s = document.createElement('script');\n",
       "        s.src = paths[lib];\n",
       "        s.async = true;\n",
       "        s.onload = () => resolve(paths[lib]);\n",
       "        s.onerror = () => reject(`Error loading script: ${paths[lib]}`);\n",
       "        document.getElementsByTagName(\"head\")[0].appendChild(s);\n",
       "      });\n",
       "    }\n",
       "\n",
       "    function showError(err) {\n",
       "      outputDiv.innerHTML = `<div class=\"error\" style=\"color:red;\">${err}</div>`;\n",
       "      throw err;\n",
       "    }\n",
       "\n",
       "    function displayChart(vegaEmbed) {\n",
       "      vegaEmbed(outputDiv, spec, embedOpt)\n",
       "        .catch(err => showError(`Javascript Error: ${err.message}<br>This usually means there's a typo in your chart specification. See the javascript console for the full traceback.`));\n",
       "    }\n",
       "\n",
       "    if(typeof define === \"function\" && define.amd) {\n",
       "      requirejs.config({paths});\n",
       "      require([\"vega-embed\"], displayChart, err => showError(`Error loading script: ${err.message}`));\n",
       "    } else if (typeof vegaEmbed === \"function\") {\n",
       "      displayChart(vegaEmbed);\n",
       "    } else {\n",
       "      loadScript(\"vega\")\n",
       "        .then(() => loadScript(\"vega-lite\"))\n",
       "        .then(() => loadScript(\"vega-embed\"))\n",
       "        .catch(showError)\n",
       "        .then(() => displayChart(vegaEmbed));\n",
       "    }\n",
       "  })({\"config\": {\"view\": {\"continuousWidth\": 400, \"continuousHeight\": 300}}, \"layer\": [{\"mark\": {\"type\": \"bar\", \"size\": 50}, \"encoding\": {\"color\": {\"type\": \"nominal\", \"field\": \"Category\"}, \"tooltip\": [{\"type\": \"quantitative\", \"aggregate\": \"count\", \"title\": \"Number of articles\"}, {\"type\": \"nominal\", \"field\": \"Category\"}], \"x\": {\"type\": \"nominal\", \"field\": \"Category\"}, \"y\": {\"type\": \"quantitative\", \"aggregate\": \"count\", \"axis\": {\"title\": \"Number of articles\"}}}, \"selection\": {\"selector003\": {\"type\": \"interval\", \"bind\": \"scales\", \"encodings\": [\"x\", \"y\"]}}}, {\"mark\": {\"type\": \"text\", \"align\": \"center\", \"baseline\": \"bottom\"}, \"encoding\": {\"color\": {\"type\": \"nominal\", \"field\": \"Category\"}, \"text\": {\"type\": \"quantitative\", \"aggregate\": \"count\"}, \"tooltip\": [{\"type\": \"quantitative\", \"aggregate\": \"count\", \"title\": \"Number of articles\"}, {\"type\": \"nominal\", \"field\": \"Category\"}], \"x\": {\"type\": \"nominal\", \"field\": \"Category\"}, \"y\": {\"type\": \"quantitative\", \"aggregate\": \"count\", \"axis\": {\"title\": \"Number of articles\"}}}}], \"data\": {\"name\": \"data-b48509551e5fd4c766b9319d9115e311\"}, \"height\": 300, \"title\": \"Number of articles in each category\", \"width\": 700, \"$schema\": \"https://vega.github.io/schema/vega-lite/v4.8.1.json\", \"datasets\": {\"data-b48509551e5fd4c766b9319d9115e311\": [{\"File_Name\": \"Autonomous_new_1.txt\", \"Content\": \"Self-driving car dilemmas reveal that moral choices are not universal\\r\\nSurvey maps global variations in ethics for programming autonomous vehicles.\\r\\nAmy Maxmen\\r\\n  \\r\\n\\r\\nSelf-driving cars are being developed by several major technology companies and carmakers. credit: VCG/Getty\\r\\n\\r\\nWhen a driver slams on the brakes to avoid hitting a pedestrian crossing the road illegally, she is making a moral decision that shifts risk from the pedestrian to the people in the car. Self-driving cars might soon have to make such ethical judgments on their own \\u00e2\\u20ac\\u201d but settling on a universal moral code for the vehicles could be a thorny task, suggests a survey of 2.3 million people from around the world.\\r\\n\\r\\nThe largest ever survey of machine ethics1, published today in Nature, finds that many of the moral principles that guide a driver\\u00e2\\u20ac\\u2122s decisions vary by country. For example, in a scenario in which some combination of pedestrians and passengers will die in a collision, people from relatively prosperous countries with strong institutions were less likely to spare a pedestrian who stepped into traffic illegally.\\r\\n\\r\\nAzim Shariff, a psychologist at the University of British Columbia in Vancouver, finds this result interesting because it suggests that the survey really does reveal people\\u00e2\\u20ac\\u2122s moral preferences. \\u00e2\\u20ac\\u0153If you assume that places that have a lower level of income inequality have political policies that favor egalitarianism, this shows that the moral norms that support those policies are expressed in the way that people play these games.\\u00e2\\u20ac\\u009d\\r\\n\\r\\nPotholes ahead?\\r\\nAlthough autonomous vehicles aren't yet for sale to the public, test versions are cruising through several US cities. By 2021, at least five manufacturers hope to have self-driving cars and trucks in wide use.\\r\\n\\r\\nBryant Walker Smith, a law professor at the University of South Carolina in Columbia, is sceptical that the Moral Machine survey will have any practical use. He says that the study is unrealistic because there are few instances in real life in which a vehicle would face a choice between striking two different types of people. \\u00e2\\u20ac\\u0153I might as well worry about how automated cars will deal with asteroid strikes,\\u00e2\\u20ac\\u009d Walker Smith says.\\r\\n\\r\\nBut the study\\u00e2\\u20ac\\u2122s authors say that their scenarios represent the minor moral judgements that human drivers make routinely \\u00e2\\u20ac\\u201d which can sometimes be fatal. A driver who veers away from cyclists riding on a curvy mountain road increases her chance of hitting an oncoming vehicle. If the number of driverless cars on the road increases, so too will the likelihood that they will be involved in such accidents.\\r\\n\\r\\nSome car companies are listening. Barbara Wege, who heads a group focused on autonomous-vehicle ethics at Audi in Ingolstadt, Germany, says such studies are valuable. Wege argues that self-driving cars would cause fewer accidents, proportionally, than human drivers do each year \\u00e2\\u20ac\\u201d but that events involving robots might receive more attention.\\r\\n\\r\\nSurveys such as the Moral Machine can help to begin public discussions about these inevitable accidents that might foster trust. \\u00e2\\u20ac\\u0153We need to come up with a social consensus,\\u00e2\\u20ac\\u009d she says, \\u00e2\\u20ac\\u0153about which risks we are willing to take.\\u00e2\\u20ac\\u009d\", \"Category\": \"Audi\", \"Complete_Filename\": \"Autonomous_new_1.txt-Audi\"}, {\"File_Name\": \"Atonomous_new_3.txt\", \"Content\": \"Self-driving car dilemmas reveal that moral choices are not universal\\r\\nSurvey maps global variations in ethics for programming autonomous vehicles.\\r\\nAmy Maxmen\\r\\n  \\r\\n\\r\\nSelf-driving cars are being developed by several major technology companies and carmakers. credit: VCG/Getty\\r\\n\\r\\nWhen a driver slams on the brakes to avoid hitting a pedestrian crossing the road illegally, she is making a moral decision that shifts risk from the pedestrian to the people in the car. Self-driving cars might soon have to make such ethical judgments on their own \\u00e2\\u20ac\\u201d but settling on a universal moral code for the vehicles could be a thorny task, suggests a survey of 2.3 million people from around the world.\\r\\n\\r\\nThe largest ever survey of machine ethics1, published today in Nature, finds that many of the moral principles that guide a driver\\u00e2\\u20ac\\u2122s decisions vary by country. For example, in a scenario in which some combination of pedestrians and passengers will die in a collision, people from relatively prosperous countries with strong institutions were less likely to spare a pedestrian who stepped into traffic illegally.\\r\\n\\r\\n\\u00e2\\u20ac\\u0153People who think about machine ethics make it sound like you can come up with a perfect set of rules for robots, and what we show here with data is that there are no universal rules,\\u00e2\\u20ac\\u009d says Iyad Rahwan, a computer scientist at the Massachusetts Institute of Technology in Cambridge and a co-author of the study.\\r\\n\\r\\nThe survey, called the Moral Machine, laid out 13 scenarios in which someone\\u00e2\\u20ac\\u2122s death was inevitable. Respondents were asked to choose who to spare in situations that involved a mix of variables: young or old, rich or poor, more people or fewer.\\r\\n\\r\\nPeople rarely encounter such stark moral dilemmas, and some critics question whether the scenarios posed in the quiz are relevant to the ethical and practical questions surrounding driverless cars. But the study\\u00e2\\u20ac\\u2122s authors say that the scenarios stand in for the subtle moral decisions that drivers make every day. They argue that the findings reveal cultural nuances that governments and makers of self-driving cars must take into account if they want the vehicles to gain public acceptance.\\r\\n\\r\\nAt least one company working on self-driving cars \\u00e2\\u20ac\\u201d the German carmaker Audi \\u00e2\\u20ac\\u201d says that the survey could help prompt an important discussion about these issues. (Other firms with autonomous-vehicle programmes, including auto manufacturer Toyota and technology companies Waymo and Uber, declined to comment on the findings.) And Nicholas Christakis, a social scientist at Yale University in New Haven, Connecticut, is fascinated by the results.\\r\\n\\r\\n\\u00e2\\u20ac\\u0153It\\u00e2\\u20ac\\u2122s a remarkable paper,\\u00e2\\u20ac\\u009d he says. The debate about whether ethics are universal or vary between cultures is an old one, says Christakis, and now the \\u00e2\\u20ac\\u0153twenty-first century problem\\u00e2\\u20ac\\u009d of how to programme self-driving cars has reinvigorated it.\\r\\n\\r\\nThe road not taken\\r\\nSome of the world\\u00e2\\u20ac\\u2122s biggest tech companies \\u00e2\\u20ac\\u201d including Google's parent, Alphabet; Uber; and Tesla \\u00e2\\u20ac\\u201d and carmakers now have self-driving car programmes. Many of these companies argue that the vehicles could improve road safety, ease traffic and improve fuel efficiency. Social scientists say the cars raise ethical issues, and could have unintended consequences for public safety and the environment.\\u00ef\\u00bb\\u00bf\\r\\n\\r\\nIn 2016, Rahwan\\u00e2\\u20ac\\u2122s team stumbled on an ethical paradox about self-driving cars2: in surveys, people said that they wanted an autonomous vehicle to protect pedestrians even if it meant sacrificing its passengers \\u00e2\\u20ac\\u201d but also that they wouldn\\u00e2\\u20ac\\u2122t buy self-driving vehicles programmed to act this way.\\r\\n\\r\\nCurious to see if the prospect of self-driving cars might raise other ethical condundrums, Rahwan gathered an international team of psychologists, anthropologists and economists to create the Moral Machine. Within 18 months, the online quiz had recorded 40 million decisions made by people from 233 countries and territories.\\r\\n\\r\\n\\r\\nNo matter their age, gender or country of residence, most people spared humans over pets, and groups of people over individuals. These responses are in line with rules proposed in what may be the only governmental guidance on self-driving cars: a 2017 report by the German Ethics Commission on Automated and Connected Driving.\\r\\n\\r\\nBut agreement ends there. When the authors analysed answers from people in the 130 countries with at least 100 respondents, they found that the nations could be divided into three groups. One contains North America and several European nations where Christianity has historically been the dominant religion; another includes countries such as Japan, Indonesia and Pakistan, with strong Confucian or Islamic traditions. A third group consists of Central and South America, as well as France and former French colonies. The first group showed a stronger preference for sacrificing older lives to save younger ones than did the second group, for example.\\r\\n\\r\\n\\r\\n\\r\\nThe researchers also identified correlations between social and economic factors in a country and the average opinions of its residents. The team found that people from countries with strong government institutions, such as Finland and Japan, more often chose to hit people who were crossing the road illegally than did respondents in nations with weaker institutions, such as Nigeria or Pakistan.\\r\\n\\r\\nScenarios that forced survey participants to choose whether to save a homeless person on one side of the road or an executive on the other revealed another point of departure: the choices people made often correlated with the level of economic inequality in their culture. People from Finland \\u00e2\\u20ac\\u201d which has a relatively small gap between the rich and the poor \\u00e2\\u20ac\\u201d showed little preference for swerving one way or the other. But the average respondent from Colombia \\u00e2\\u20ac\\u201d a country with significant economic disparity \\u00e2\\u20ac\\u201d chose to kill the lower-status person.\\r\\n\\r\\nAzim Shariff, a psychologist at the University of British Columbia in Vancouver, finds this result interesting because it suggests that the survey really does reveal people\\u00e2\\u20ac\\u2122s moral preferences. \\u00e2\\u20ac\\u0153If you assume that places that have a lower level of income inequality have political policies that favor egalitarianism, this shows that the moral norms that support those policies are expressed in the way that people play these games.\\u00e2\\u20ac\\u009d\\r\\n\\r\\nPotholes ahead?\\r\\nAlthough autonomous vehicles aren't yet for sale to the public, test versions are cruising through several US cities. By 2021, at least five manufacturers hope to have self-driving cars and trucks in wide use.\\r\\n\\r\\nBryant Walker Smith, a law professor at the University of South Carolina in Columbia, is sceptical that the Moral Machine survey will have any practical use. He says that the study is unrealistic because there are few instances in real life in which a vehicle would face a choice between striking two different types of people. \\u00e2\\u20ac\\u0153I might as well worry about how automated cars will deal with asteroid strikes,\\u00e2\\u20ac\\u009d Walker Smith says.\\r\\n\\r\\nBut the study\\u00e2\\u20ac\\u2122s authors say that their scenarios represent the minor moral judgements that human drivers make routinely \\u00e2\\u20ac\\u201d which can sometimes be fatal. A driver who veers away from cyclists riding on a curvy mountain road increases her chance of hitting an oncoming vehicle. If the number of driverless cars on the road increases, so too will the likelihood that they will be involved in such accidents.\\r\\n\\r\\nSome car companies are listening. Barbara Wege, who heads a group focused on autonomous-vehicle ethics at Audi in Ingolstadt, Germany, says such studies are valuable. Wege argues that self-driving cars would cause fewer accidents, proportionally, than human drivers do each year \\u00e2\\u20ac\\u201d but that events involving robots might receive more attention.\\r\\n\\r\\nSurveys such as the Moral Machine can help to begin public discussions about these inevitable accidents that might foster trust. \\u00e2\\u20ac\\u0153We need to come up with a social consensus,\\u00e2\\u20ac\\u009d she says, \\u00e2\\u20ac\\u0153about which risks we are willing to take.\\u00e2\\u20ac\\u009d\", \"Category\": \"BMW\", \"Complete_Filename\": \"Atonomous_new_3.txt-BMW\"}, {\"File_Name\": \"Autonomous_new_2.txt\", \"Content\": \"Self-driving car dilemmas reveal that moral choices are not universal\\r\\nSurvey maps global variations in ethics for programming autonomous vehicles.\\r\\nAmy Maxmen\\r\\n  \\r\\n\\r\\nSelf-driving cars are being developed by several major technology companies and carmakers. credit: VCG/Getty\\r\\n\\r\\nWhen a driver slams on the brakes to avoid hitting a pedestrian crossing the road illegally, she is making a moral decision that shifts risk from the pedestrian to the people in the car. Self-driving cars might soon have to make such ethical judgments on their own \\u00e2\\u20ac\\u201d but settling on a universal moral code for the vehicles could be a thorny task, suggests a survey of 2.3 million people from around the world.\\r\\n\\r\\nThe largest ever survey of machine ethics1, published today in Nature, finds that many of the moral principles that guide a driver\\u00e2\\u20ac\\u2122s decisions vary by country. For example, in a scenario in which some combination of pedestrians and passengers will die in a collision, people from relatively prosperous countries with strong institutions were less likely to spare a pedestrian who stepped into traffic illegally.\\r\\n\\r\\n\\u00e2\\u20ac\\u0153People who think about machine ethics make it sound like you can come up with a perfect set of rules for robots, and what we show here with data is that there are no universal rules,\\u00e2\\u20ac\\u009d says Iyad Rahwan, a computer scientist at the Massachusetts Institute of Technology in Cambridge and a co-author of the study.\\r\\n\\r\\nThe survey, called the Moral Machine, laid out 13 scenarios in which someone\\u00e2\\u20ac\\u2122s death was inevitable. Respondents were asked to choose who to spare in situations that involved a mix of variables: young or old, rich or poor, more people or fewer.\\r\\n\\r\\nSurveys such as the Moral Machine can help to begin public discussions about these inevitable accidents that might foster trust. \\u00e2\\u20ac\\u0153We need to come up with a social consensus,\\u00e2\\u20ac\\u009d she says, \\u00e2\\u20ac\\u0153about which risks we are willing to take.\\u00e2\\u20ac\\u009d\", \"Category\": \"Tesla\", \"Complete_Filename\": \"Autonomous_new_2.txt-Tesla\"}]}}, {\"mode\": \"vega-lite\"});\n",
       "</script>"
      ],
      "text/plain": [
       "alt.LayerChart(...)"
      ]
     },
     "execution_count": 28,
     "metadata": {},
     "output_type": "execute_result"
    }
   ],
   "source": [
    "bars = alt.Chart(df).mark_bar(size=50).encode(\n",
    " x=alt.X(\"Category\"),\n",
    " y=alt.Y(\"count():Q\", axis=alt.Axis(title='Number of articles')),\n",
    " tooltip=[alt.Tooltip('count()', title='Number of articles'), 'Category'],\n",
    " color='Category'\n",
    ")\n",
    "text = bars.mark_text(\n",
    " align='center',\n",
    " baseline='bottom',\n",
    ").encode(\n",
    " text='count()'\n",
    ")\n",
    "(bars + text).interactive().properties(\n",
    " height=300,\n",
    " width=700,\n",
    " title = \"Number of articles in each category\",\n",
    ")"
   ]
  },
  {
   "cell_type": "markdown",
   "metadata": {},
   "source": [
    "### % of articles in each category"
   ]
  },
  {
   "cell_type": "code",
   "execution_count": 29,
   "metadata": {},
   "outputs": [
    {
     "data": {
      "text/html": [
       "\n",
       "<div id=\"altair-viz-d192b2a733514fa1973834bd9baca135\"></div>\n",
       "<script type=\"text/javascript\">\n",
       "  (function(spec, embedOpt){\n",
       "    let outputDiv = document.currentScript.previousElementSibling;\n",
       "    if (outputDiv.id !== \"altair-viz-d192b2a733514fa1973834bd9baca135\") {\n",
       "      outputDiv = document.getElementById(\"altair-viz-d192b2a733514fa1973834bd9baca135\");\n",
       "    }\n",
       "    const paths = {\n",
       "      \"vega\": \"https://cdn.jsdelivr.net/npm//vega@5?noext\",\n",
       "      \"vega-lib\": \"https://cdn.jsdelivr.net/npm//vega-lib?noext\",\n",
       "      \"vega-lite\": \"https://cdn.jsdelivr.net/npm//vega-lite@4.8.1?noext\",\n",
       "      \"vega-embed\": \"https://cdn.jsdelivr.net/npm//vega-embed@6?noext\",\n",
       "    };\n",
       "\n",
       "    function loadScript(lib) {\n",
       "      return new Promise(function(resolve, reject) {\n",
       "        var s = document.createElement('script');\n",
       "        s.src = paths[lib];\n",
       "        s.async = true;\n",
       "        s.onload = () => resolve(paths[lib]);\n",
       "        s.onerror = () => reject(`Error loading script: ${paths[lib]}`);\n",
       "        document.getElementsByTagName(\"head\")[0].appendChild(s);\n",
       "      });\n",
       "    }\n",
       "\n",
       "    function showError(err) {\n",
       "      outputDiv.innerHTML = `<div class=\"error\" style=\"color:red;\">${err}</div>`;\n",
       "      throw err;\n",
       "    }\n",
       "\n",
       "    function displayChart(vegaEmbed) {\n",
       "      vegaEmbed(outputDiv, spec, embedOpt)\n",
       "        .catch(err => showError(`Javascript Error: ${err.message}<br>This usually means there's a typo in your chart specification. See the javascript console for the full traceback.`));\n",
       "    }\n",
       "\n",
       "    if(typeof define === \"function\" && define.amd) {\n",
       "      requirejs.config({paths});\n",
       "      require([\"vega-embed\"], displayChart, err => showError(`Error loading script: ${err.message}`));\n",
       "    } else if (typeof vegaEmbed === \"function\") {\n",
       "      displayChart(vegaEmbed);\n",
       "    } else {\n",
       "      loadScript(\"vega\")\n",
       "        .then(() => loadScript(\"vega-lite\"))\n",
       "        .then(() => loadScript(\"vega-embed\"))\n",
       "        .catch(showError)\n",
       "        .then(() => displayChart(vegaEmbed));\n",
       "    }\n",
       "  })({\"config\": {\"view\": {\"continuousWidth\": 400, \"continuousHeight\": 300}}, \"layer\": [{\"mark\": {\"type\": \"bar\", \"size\": 50}, \"encoding\": {\"color\": {\"type\": \"nominal\", \"field\": \"Category\"}, \"x\": {\"type\": \"nominal\", \"field\": \"Category\"}, \"y\": {\"type\": \"quantitative\", \"axis\": {\"format\": \".0%\", \"title\": \"% of Articles\"}, \"field\": \"PercentOfTotal\"}}, \"selection\": {\"selector004\": {\"type\": \"interval\", \"bind\": \"scales\", \"encodings\": [\"x\", \"y\"]}}, \"transform\": [{\"window\": [{\"op\": \"sum\", \"field\": \"id\", \"as\": \"TotalArticles\"}], \"frame\": [null, null]}, {\"calculate\": \"datum.id / datum.TotalArticles\", \"as\": \"PercentOfTotal\"}]}, {\"mark\": {\"type\": \"text\", \"align\": \"center\", \"baseline\": \"bottom\"}, \"encoding\": {\"color\": {\"type\": \"nominal\", \"field\": \"Category\"}, \"text\": {\"type\": \"quantitative\", \"field\": \"PercentOfTotal\", \"format\": \".1%\"}, \"x\": {\"type\": \"nominal\", \"field\": \"Category\"}, \"y\": {\"type\": \"quantitative\", \"axis\": {\"format\": \".0%\", \"title\": \"% of Articles\"}, \"field\": \"PercentOfTotal\"}}, \"transform\": [{\"window\": [{\"op\": \"sum\", \"field\": \"id\", \"as\": \"TotalArticles\"}], \"frame\": [null, null]}, {\"calculate\": \"datum.id / datum.TotalArticles\", \"as\": \"PercentOfTotal\"}]}], \"data\": {\"name\": \"data-159746866c87e642b3d6ff052f2d5f85\"}, \"height\": 300, \"title\": \"% of articles in each category\", \"width\": 700, \"$schema\": \"https://vega.github.io/schema/vega-lite/v4.8.1.json\", \"datasets\": {\"data-159746866c87e642b3d6ff052f2d5f85\": [{\"Category\": \"Audi\", \"id\": 1}, {\"Category\": \"BMW\", \"id\": 1}, {\"Category\": \"Tesla\", \"id\": 1}]}}, {\"mode\": \"vega-lite\"});\n",
       "</script>"
      ],
      "text/plain": [
       "alt.LayerChart(...)"
      ]
     },
     "execution_count": 29,
     "metadata": {},
     "output_type": "execute_result"
    }
   ],
   "source": [
    "df['id'] = 1\n",
    "df2 = pd.DataFrame(df.groupby('Category').count()['id']).reset_index()\n",
    "\n",
    "bars = alt.Chart(df2).mark_bar(size=50).encode(\n",
    "    x=alt.X('Category'),\n",
    "    y=alt.Y('PercentOfTotal:Q', axis=alt.Axis(format='.0%', title='% of Articles')),\n",
    "    color='Category'\n",
    ").transform_window(\n",
    "    TotalArticles='sum(id)',\n",
    "    frame=[None, None]\n",
    ").transform_calculate(\n",
    "    PercentOfTotal=\"datum.id / datum.TotalArticles\"\n",
    ")\n",
    "\n",
    "text = bars.mark_text(\n",
    "    align='center',\n",
    "    baseline='bottom',\n",
    "    #dx=5  # Nudges text to right so it doesn't appear on top of the bar\n",
    ").encode(\n",
    "    text=alt.Text('PercentOfTotal:Q', format='.1%')\n",
    ")\n",
    "\n",
    "(bars + text).interactive().properties(\n",
    "    height=300, \n",
    "    width=700,\n",
    "    title = \"% of articles in each category\",\n",
    ")"
   ]
  },
  {
   "cell_type": "markdown",
   "metadata": {},
   "source": [
    "The classes are approximately balanced. We'll first try to train the models without oversampling/undersampling. If we see some bias in the model, we'll use these techniques."
   ]
  },
  {
   "cell_type": "markdown",
   "metadata": {},
   "source": [
    "### News length by category"
   ]
  },
  {
   "cell_type": "markdown",
   "metadata": {},
   "source": [
    "Definition of news length field. Although there are special characters in the text (``\\r, \\n``), it will be useful as an approximation."
   ]
  },
  {
   "cell_type": "code",
   "execution_count": 30,
   "metadata": {},
   "outputs": [],
   "source": [
    "df['News_length'] = df['Content'].str.len()"
   ]
  },
  {
   "cell_type": "code",
   "execution_count": 31,
   "metadata": {},
   "outputs": [
    {
     "data": {
      "image/png": "[encoded data removed]",
      "text/plain": [
       "<Figure size 921.6x432 with 1 Axes>"
      ]
     },
     "metadata": {},
     "output_type": "display_data"
    }
   ],
   "source": [
    "plt.figure(figsize=(12.8,6))\n",
    "sns.distplot(df['News_length']).set_title('News length distribution');"
   ]
  },
  {
   "cell_type": "code",
   "execution_count": 32,
   "metadata": {},
   "outputs": [
    {
     "data": {
      "text/plain": [
       "count       3.000000\n",
       "mean     4378.666667\n",
       "std      3206.956553\n",
       "min      1916.000000\n",
       "25%      2565.500000\n",
       "50%      3215.000000\n",
       "75%      5610.000000\n",
       "max      8005.000000\n",
       "Name: News_length, dtype: float64"
      ]
     },
     "execution_count": 32,
     "metadata": {},
     "output_type": "execute_result"
    }
   ],
   "source": [
    "df['News_length'].describe()"
   ]
  },
  {
   "cell_type": "markdown",
   "metadata": {},
   "source": [
    "Let's remove from the 95% percentile onwards to better appreciate the histogram:"
   ]
  },
  {
   "cell_type": "code",
   "execution_count": 33,
   "metadata": {},
   "outputs": [],
   "source": [
    "quantile_95 = df['News_length'].quantile(0.95)\n",
    "df_95 = df[df['News_length'] < quantile_95]"
   ]
  },
  {
   "cell_type": "code",
   "execution_count": 10,
   "metadata": {},
   "outputs": [
    {
     "data": {
      "image/png": "[encoded data removed]",
      "text/plain": [
       "<Figure size 921.6x432 with 1 Axes>"
      ]
     },
     "metadata": {},
     "output_type": "display_data"
    }
   ],
   "source": [
    "plt.figure(figsize=(12.8,6))\n",
    "sns.distplot(df_95['News_length']).set_title('News length distribution');"
   ]
  },
  {
   "cell_type": "markdown",
   "metadata": {},
   "source": [
    "We can get the number of news articles with more than 10,000 characters:"
   ]
  },
  {
   "cell_type": "code",
   "execution_count": 34,
   "metadata": {},
   "outputs": [
    {
     "data": {
      "text/plain": [
       "3"
      ]
     },
     "execution_count": 34,
     "metadata": {},
     "output_type": "execute_result"
    }
   ],
   "source": [
    "df_more10k = df[df['News_length'] > 1000]\n",
    "len(df_more10k)"
   ]
  },
  {
   "cell_type": "markdown",
   "metadata": {},
   "source": [
    "Let's see one:"
   ]
  },
  {
   "cell_type": "code",
   "execution_count": 35,
   "metadata": {
    "scrolled": false
   },
   "outputs": [
    {
     "data": {
      "text/plain": [
       "\"Self-driving car dilemmas reveal that moral choices are not universal\\r\\nSurvey maps global variations in ethics for programming autonomous vehicles.\\r\\nAmy Maxmen\\r\\n  \\r\\n\\r\\nSelf-driving cars are being developed by several major technology companies and carmakers. credit: VCG/Getty\\r\\n\\r\\nWhen a driver slams on the brakes to avoid hitting a pedestrian crossing the road illegally, she is making a moral decision that shifts risk from the pedestrian to the people in the car. Self-driving cars might soon have to make such ethical judgments on their own â€” but settling on a universal moral code for the vehicles could be a thorny task, suggests a survey of 2.3 million people from around the world.\\r\\n\\r\\nThe largest ever survey of machine ethics1, published today in Nature, finds that many of the moral principles that guide a driverâ€™s decisions vary by country. For example, in a scenario in which some combination of pedestrians and passengers will die in a collision, people from relatively prosperous countries with strong institutions were less likely to spare a pedestrian who stepped into traffic illegally.\\r\\n\\r\\nAzim Shariff, a psychologist at the University of British Columbia in Vancouver, finds this result interesting because it suggests that the survey really does reveal peopleâ€™s moral preferences. â€œIf you assume that places that have a lower level of income inequality have political policies that favor egalitarianism, this shows that the moral norms that support those policies are expressed in the way that people play these games.â€\\x9d\\r\\n\\r\\nPotholes ahead?\\r\\nAlthough autonomous vehicles aren't yet for sale to the public, test versions are cruising through several US cities. By 2021, at least five manufacturers hope to have self-driving cars and trucks in wide use.\\r\\n\\r\\nBryant Walker Smith, a law professor at the University of South Carolina in Columbia, is sceptical that the Moral Machine survey will have any practical use. He says that the study is unrealistic because there are few instances in real life in which a vehicle would face a choice between striking two different types of people. â€œI might as well worry about how automated cars will deal with asteroid strikes,â€\\x9d Walker Smith says.\\r\\n\\r\\nBut the studyâ€™s authors say that their scenarios represent the minor moral judgements that human drivers make routinely â€” which can sometimes be fatal. A driver who veers away from cyclists riding on a curvy mountain road increases her chance of hitting an oncoming vehicle. If the number of driverless cars on the road increases, so too will the likelihood that they will be involved in such accidents.\\r\\n\\r\\nSome car companies are listening. Barbara Wege, who heads a group focused on autonomous-vehicle ethics at Audi in Ingolstadt, Germany, says such studies are valuable. Wege argues that self-driving cars would cause fewer accidents, proportionally, than human drivers do each year â€” but that events involving robots might receive more attention.\\r\\n\\r\\nSurveys such as the Moral Machine can help to begin public discussions about these inevitable accidents that might foster trust. â€œWe need to come up with a social consensus,â€\\x9d she says, â€œabout which risks we are willing to take.â€\\x9d\""
      ]
     },
     "execution_count": 35,
     "metadata": {},
     "output_type": "execute_result"
    }
   ],
   "source": [
    "df_more10k['Content'].iloc[0]"
   ]
  },
  {
   "cell_type": "markdown",
   "metadata": {},
   "source": [
    "It's just a large news article."
   ]
  },
  {
   "cell_type": "markdown",
   "metadata": {},
   "source": [
    "Let's now plot a boxplot:"
   ]
  },
  {
   "cell_type": "code",
   "execution_count": 36,
   "metadata": {
    "scrolled": false
   },
   "outputs": [
    {
     "data": {
      "image/png": "[encoded data removed]",
      "text/plain": [
       "<Figure size 921.6x432 with 1 Axes>"
      ]
     },
     "metadata": {},
     "output_type": "display_data"
    }
   ],
   "source": [
    "plt.figure(figsize=(12.8,6))\n",
    "sns.boxplot(data=df, x='Category', y='News_length', width=.5);"
   ]
  },
  {
   "cell_type": "markdown",
   "metadata": {},
   "source": [
    "Now, let's remove the larger documents for better comprehension:"
   ]
  },
  {
   "cell_type": "code",
   "execution_count": 37,
   "metadata": {},
   "outputs": [
    {
     "data": {
      "image/png": "[encoded data removed]",
      "text/plain": [
       "<Figure size 921.6x432 with 1 Axes>"
      ]
     },
     "metadata": {},
     "output_type": "display_data"
    }
   ],
   "source": [
    "plt.figure(figsize=(12.8,6))\n",
    "sns.boxplot(data=df_95, x='Category', y='News_length');"
   ]
  },
  {
   "cell_type": "markdown",
   "metadata": {},
   "source": [
    "We can see that, although the length distribution is different for every category, the difference is not too big. If we had way too different lengths between categories we would have a problem since the feature creation process may take into account counts of words. However, when creating the features with TF-IDF scoring, we will normalize the features just to avoid this."
   ]
  },
  {
   "cell_type": "markdown",
   "metadata": {},
   "source": [
    "At this point, we cannot do further Exploratory Data Analysis. We'll turn onto the **Feature Engineering** section."
   ]
  },
  {
   "cell_type": "markdown",
   "metadata": {},
   "source": [
    "We'll save the dataset:"
   ]
  },
  {
   "cell_type": "code",
   "execution_count": 38,
   "metadata": {},
   "outputs": [],
   "source": [
    "with open('News_dataset.pickle8', 'wb') as output:\n",
    "    pickle.dump(df, output)"
   ]
  },
  {
   "cell_type": "code",
   "execution_count": null,
   "metadata": {},
   "outputs": [],
   "source": []
  }
 ],
 "metadata": {
  "kernelspec": {
   "display_name": "Python 3 (ipykernel)",
   "language": "python",
   "name": "python3"
  },
  "language_info": {
   "codemirror_mode": {
    "name": "ipython",
    "version": 3
   },
   "file_extension": ".py",
   "mimetype": "text/x-python",
   "name": "python",
   "nbconvert_exporter": "python",
   "pygments_lexer": "ipython3",
   "version": "3.8.11"
  }
 },
 "nbformat": 4,
 "nbformat_minor": 2
}
