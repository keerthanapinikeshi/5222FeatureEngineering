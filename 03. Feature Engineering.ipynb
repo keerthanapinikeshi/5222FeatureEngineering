{
 "cells": [
  {
   "cell_type": "markdown",
   "metadata": {},
   "source": [
    "# Feature Engineering"
   ]
  },
  {
   "cell_type": "markdown",
   "metadata": {},
   "source": [
    "The next step is to create features from the raw text so we can train the machine learning models. The steps followed are:\n",
    "\n",
    "1. **Text Cleaning and Preparation**: cleaning of special characters, downcasing, punctuation signs. possessive pronouns and stop words removal and lemmatization. \n",
    "2. **Label coding**: creation of a dictionary to map each category to a code.\n",
    "3. **Train-test split**: to test the models on unseen data.\n",
    "4. **Text representation**: use of TF-IDF scores to represent text."
   ]
  },
  {
   "cell_type": "code",
   "execution_count": 62,
   "metadata": {},
   "outputs": [],
   "source": [
    "import pickle\n",
    "import pandas as pd\n",
    "import re\n",
    "import nltk\n",
    "from nltk.corpus import stopwords\n",
    "from nltk.stem import WordNetLemmatizer\n",
    "from sklearn.feature_extraction.text import TfidfVectorizer\n",
    "from sklearn.model_selection import train_test_split\n",
    "from sklearn.feature_selection import chi2\n",
    "import numpy as np"
   ]
  },
  {
   "cell_type": "markdown",
   "metadata": {},
   "source": [
    "First of all we'll load the dataset:"
   ]
  },
  {
   "cell_type": "code",
   "execution_count": 63,
   "metadata": {},
   "outputs": [],
   "source": [
    "path_df = \"/Users/keerthanareddy/Downloads/Latest-News-Classifier-master/0. Latest News Classifier/02. Exploratory Data Analysis/News_dataset.pickle\"\n",
    "\n",
    "with open(path_df, 'rb') as data:\n",
    "    df = pickle.load(data)"
   ]
  },
  {
   "cell_type": "code",
   "execution_count": 64,
   "metadata": {},
   "outputs": [
    {
     "data": {
      "text/html": [
       "<div>\n",
       "<style scoped>\n",
       "    .dataframe tbody tr th:only-of-type {\n",
       "        vertical-align: middle;\n",
       "    }\n",
       "\n",
       "    .dataframe tbody tr th {\n",
       "        vertical-align: top;\n",
       "    }\n",
       "\n",
       "    .dataframe thead th {\n",
       "        text-align: right;\n",
       "    }\n",
       "</style>\n",
       "<table border=\"1\" class=\"dataframe\">\n",
       "  <thead>\n",
       "    <tr style=\"text-align: right;\">\n",
       "      <th></th>\n",
       "      <th>File_Name</th>\n",
       "      <th>Content</th>\n",
       "      <th>Category</th>\n",
       "      <th>Complete_Filename</th>\n",
       "      <th>id</th>\n",
       "      <th>News_length</th>\n",
       "    </tr>\n",
       "  </thead>\n",
       "  <tbody>\n",
       "    <tr>\n",
       "      <th>0</th>\n",
       "      <td>Autonomous_new_1.txt</td>\n",
       "      <td>Self-driving car dilemmas reveal that moral ch...</td>\n",
       "      <td>Audi</td>\n",
       "      <td>Autonomous_new_1.txt-Audi</td>\n",
       "      <td>1</td>\n",
       "      <td>3215</td>\n",
       "    </tr>\n",
       "    <tr>\n",
       "      <th>1</th>\n",
       "      <td>Atonomous_new_3.txt</td>\n",
       "      <td>Self-driving car dilemmas reveal that moral ch...</td>\n",
       "      <td>BMW</td>\n",
       "      <td>Atonomous_new_3.txt-BMW</td>\n",
       "      <td>1</td>\n",
       "      <td>8005</td>\n",
       "    </tr>\n",
       "    <tr>\n",
       "      <th>2</th>\n",
       "      <td>Autonomous_new_2.txt</td>\n",
       "      <td>Self-driving car dilemmas reveal that moral ch...</td>\n",
       "      <td>Tesla</td>\n",
       "      <td>Autonomous_new_2.txt-Tesla</td>\n",
       "      <td>1</td>\n",
       "      <td>1916</td>\n",
       "    </tr>\n",
       "  </tbody>\n",
       "</table>\n",
       "</div>"
      ],
      "text/plain": [
       "              File_Name                                            Content  \\\n",
       "0  Autonomous_new_1.txt  Self-driving car dilemmas reveal that moral ch...   \n",
       "1   Atonomous_new_3.txt  Self-driving car dilemmas reveal that moral ch...   \n",
       "2  Autonomous_new_2.txt  Self-driving car dilemmas reveal that moral ch...   \n",
       "\n",
       "  Category           Complete_Filename  id  News_length  \n",
       "0     Audi   Autonomous_new_1.txt-Audi   1         3215  \n",
       "1      BMW     Atonomous_new_3.txt-BMW   1         8005  \n",
       "2    Tesla  Autonomous_new_2.txt-Tesla   1         1916  "
      ]
     },
     "execution_count": 64,
     "metadata": {},
     "output_type": "execute_result"
    }
   ],
   "source": [
    "df.head()"
   ]
  },
  {
   "cell_type": "markdown",
   "metadata": {},
   "source": [
    "And visualize one sample news content:"
   ]
  },
  {
   "cell_type": "code",
   "execution_count": 65,
   "metadata": {},
   "outputs": [
    {
     "data": {
      "text/plain": [
       "\"Self-driving car dilemmas reveal that moral choices are not universal\\r\\nSurvey maps global variations in ethics for programming autonomous vehicles.\\r\\nAmy Maxmen\\r\\n  \\r\\n\\r\\nSelf-driving cars are being developed by several major technology companies and carmakers. credit: VCG/Getty\\r\\n\\r\\nWhen a driver slams on the brakes to avoid hitting a pedestrian crossing the road illegally, she is making a moral decision that shifts risk from the pedestrian to the people in the car. Self-driving cars might soon have to make such ethical judgments on their own â€” but settling on a universal moral code for the vehicles could be a thorny task, suggests a survey of 2.3 million people from around the world.\\r\\n\\r\\nThe largest ever survey of machine ethics1, published today in Nature, finds that many of the moral principles that guide a driverâ€™s decisions vary by country. For example, in a scenario in which some combination of pedestrians and passengers will die in a collision, people from relatively prosperous countries with strong institutions were less likely to spare a pedestrian who stepped into traffic illegally.\\r\\n\\r\\nâ€œPeople who think about machine ethics make it sound like you can come up with a perfect set of rules for robots, and what we show here with data is that there are no universal rules,â€\\x9d says Iyad Rahwan, a computer scientist at the Massachusetts Institute of Technology in Cambridge and a co-author of the study.\\r\\n\\r\\nThe survey, called the Moral Machine, laid out 13 scenarios in which someoneâ€™s death was inevitable. Respondents were asked to choose who to spare in situations that involved a mix of variables: young or old, rich or poor, more people or fewer.\\r\\n\\r\\nPeople rarely encounter such stark moral dilemmas, and some critics question whether the scenarios posed in the quiz are relevant to the ethical and practical questions surrounding driverless cars. But the studyâ€™s authors say that the scenarios stand in for the subtle moral decisions that drivers make every day. They argue that the findings reveal cultural nuances that governments and makers of self-driving cars must take into account if they want the vehicles to gain public acceptance.\\r\\n\\r\\nAt least one company working on self-driving cars â€” the German carmaker Audi â€” says that the survey could help prompt an important discussion about these issues. (Other firms with autonomous-vehicle programmes, including auto manufacturer Toyota and technology companies Waymo and Uber, declined to comment on the findings.) And Nicholas Christakis, a social scientist at Yale University in New Haven, Connecticut, is fascinated by the results.\\r\\n\\r\\nâ€œItâ€™s a remarkable paper,â€\\x9d he says. The debate about whether ethics are universal or vary between cultures is an old one, says Christakis, and now the â€œtwenty-first century problemâ€\\x9d of how to programme self-driving cars has reinvigorated it.\\r\\n\\r\\nThe road not taken\\r\\nSome of the worldâ€™s biggest tech companies â€” including Google's parent, Alphabet; Uber; and Tesla â€” and carmakers now have self-driving car programmes. Many of these companies argue that the vehicles could improve road safety, ease traffic and improve fuel efficiency. Social scientists say the cars raise ethical issues, and could have unintended consequences for public safety and the environment.ï»¿\\r\\n\\r\\nIn 2016, Rahwanâ€™s team stumbled on an ethical paradox about self-driving cars2: in surveys, people said that they wanted an autonomous vehicle to protect pedestrians even if it meant sacrificing its passengers â€” but also that they wouldnâ€™t buy self-driving vehicles programmed to act this way.\\r\\n\\r\\nCurious to see if the prospect of self-driving cars might raise other ethical condundrums, Rahwan gathered an international team of psychologists, anthropologists and economists to create the Moral Machine. Within 18 months, the online quiz had recorded 40 million decisions made by people from 233 countries and territories.\\r\\n\\r\\n\\r\\nNo matter their age, gender or country of residence, most people spared humans over pets, and groups of people over individuals. These responses are in line with rules proposed in what may be the only governmental guidance on self-driving cars: a 2017 report by the German Ethics Commission on Automated and Connected Driving.\\r\\n\\r\\nBut agreement ends there. When the authors analysed answers from people in the 130 countries with at least 100 respondents, they found that the nations could be divided into three groups. One contains North America and several European nations where Christianity has historically been the dominant religion; another includes countries such as Japan, Indonesia and Pakistan, with strong Confucian or Islamic traditions. A third group consists of Central and South America, as well as France and former French colonies. The first group showed a stronger preference for sacrificing older lives to save younger ones than did the second group, for example.\\r\\n\\r\\n\\r\\n\\r\\nThe researchers also identified correlations between social and economic factors in a country and the average opinions of its residents. The team found that people from countries with strong government institutions, such as Finland and Japan, more often chose to hit people who were crossing the road illegally than did respondents in nations with weaker institutions, such as Nigeria or Pakistan.\\r\\n\\r\\nScenarios that forced survey participants to choose whether to save a homeless person on one side of the road or an executive on the other revealed another point of departure: the choices people made often correlated with the level of economic inequality in their culture. People from Finland â€” which has a relatively small gap between the rich and the poor â€” showed little preference for swerving one way or the other. But the average respondent from Colombia â€” a country with significant economic disparity â€” chose to kill the lower-status person.\\r\\n\\r\\nAzim Shariff, a psychologist at the University of British Columbia in Vancouver, finds this result interesting because it suggests that the survey really does reveal peopleâ€™s moral preferences. â€œIf you assume that places that have a lower level of income inequality have political policies that favor egalitarianism, this shows that the moral norms that support those policies are expressed in the way that people play these games.â€\\x9d\\r\\n\\r\\nPotholes ahead?\\r\\nAlthough autonomous vehicles aren't yet for sale to the public, test versions are cruising through several US cities. By 2021, at least five manufacturers hope to have self-driving cars and trucks in wide use.\\r\\n\\r\\nBryant Walker Smith, a law professor at the University of South Carolina in Columbia, is sceptical that the Moral Machine survey will have any practical use. He says that the study is unrealistic because there are few instances in real life in which a vehicle would face a choice between striking two different types of people. â€œI might as well worry about how automated cars will deal with asteroid strikes,â€\\x9d Walker Smith says.\\r\\n\\r\\nBut the studyâ€™s authors say that their scenarios represent the minor moral judgements that human drivers make routinely â€” which can sometimes be fatal. A driver who veers away from cyclists riding on a curvy mountain road increases her chance of hitting an oncoming vehicle. If the number of driverless cars on the road increases, so too will the likelihood that they will be involved in such accidents.\\r\\n\\r\\nSome car companies are listening. Barbara Wege, who heads a group focused on autonomous-vehicle ethics at Audi in Ingolstadt, Germany, says such studies are valuable. Wege argues that self-driving cars would cause fewer accidents, proportionally, than human drivers do each year â€” but that events involving robots might receive more attention.\\r\\n\\r\\nSurveys such as the Moral Machine can help to begin public discussions about these inevitable accidents that might foster trust. â€œWe need to come up with a social consensus,â€\\x9d she says, â€œabout which risks we are willing to take.â€\\x9d\""
      ]
     },
     "execution_count": 65,
     "metadata": {},
     "output_type": "execute_result"
    }
   ],
   "source": [
    "df.loc[1]['Content']"
   ]
  },
  {
   "cell_type": "markdown",
   "metadata": {},
   "source": [
    "## 1. Text cleaning and preparation"
   ]
  },
  {
   "cell_type": "markdown",
   "metadata": {},
   "source": [
    "### 1.1. Special character cleaning\n",
    "\n",
    "We can see the following special characters:\n",
    "\n",
    "* ``\\r``\n",
    "* ``\\n``\n",
    "* ``\\`` before possessive pronouns (`government's = government\\'s`)\n",
    "* ``\\`` before possessive pronouns 2 (`Yukos'` = `Yukos\\'`)\n",
    "* ``\"`` when quoting text"
   ]
  },
  {
   "cell_type": "code",
   "execution_count": 66,
   "metadata": {},
   "outputs": [],
   "source": [
    "# \\r and \\n\n",
    "df['Content_Parsed_1'] = df['Content'].str.replace(\"\\r\", \" \")\n",
    "df['Content_Parsed_1'] = df['Content_Parsed_1'].str.replace(\"\\n\", \" \")\n",
    "df['Content_Parsed_1'] = df['Content_Parsed_1'].str.replace(\"    \", \" \")"
   ]
  },
  {
   "cell_type": "markdown",
   "metadata": {},
   "source": [
    "Regarding 3rd and 4th bullet, although it seems there is a special character, it won't affect us since it is not a *real* character:"
   ]
  },
  {
   "cell_type": "code",
   "execution_count": 67,
   "metadata": {},
   "outputs": [
    {
     "data": {
      "text/plain": [
       "\"Mr Greenspan's\""
      ]
     },
     "execution_count": 67,
     "metadata": {},
     "output_type": "execute_result"
    }
   ],
   "source": [
    "text = \"Mr Greenspan\\'s\"\n",
    "text"
   ]
  },
  {
   "cell_type": "code",
   "execution_count": 68,
   "metadata": {},
   "outputs": [],
   "source": [
    "# \" when quoting text\n",
    "df['Content_Parsed_1'] = df['Content_Parsed_1'].str.replace('\"', '')"
   ]
  },
  {
   "cell_type": "markdown",
   "metadata": {},
   "source": [
    "### 1.2. Upcase/downcase"
   ]
  },
  {
   "cell_type": "markdown",
   "metadata": {},
   "source": [
    "We'll downcase the texts because we want, for example, `Football` and `football` to be the same word."
   ]
  },
  {
   "cell_type": "code",
   "execution_count": 69,
   "metadata": {},
   "outputs": [],
   "source": [
    "# Lowercasing the text\n",
    "df['Content_Parsed_2'] = df['Content_Parsed_1'].str.lower()"
   ]
  },
  {
   "cell_type": "markdown",
   "metadata": {},
   "source": [
    "### 1.3. Punctuation signs"
   ]
  },
  {
   "cell_type": "markdown",
   "metadata": {},
   "source": [
    "Punctuation signs won't have any predicting power, so we'll just get rid of them."
   ]
  },
  {
   "cell_type": "code",
   "execution_count": 70,
   "metadata": {},
   "outputs": [
    {
     "name": "stderr",
     "output_type": "stream",
     "text": [
      "/var/folders/wx/mft315nd3gl_lnvrcrcphywr0000gn/T/ipykernel_9645/1781969415.py:5: FutureWarning: The default value of regex will change from True to False in a future version. In addition, single character regular expressions will *not* be treated as literal strings when regex=True.\n",
      "  df['Content_Parsed_3'] = df['Content_Parsed_3'].str.replace(punct_sign, '')\n"
     ]
    }
   ],
   "source": [
    "punctuation_signs = list(\"?:!.,;\")\n",
    "df['Content_Parsed_3'] = df['Content_Parsed_2']\n",
    "\n",
    "for punct_sign in punctuation_signs:\n",
    "    df['Content_Parsed_3'] = df['Content_Parsed_3'].str.replace(punct_sign, '')"
   ]
  },
  {
   "cell_type": "markdown",
   "metadata": {},
   "source": [
    "By doing this we are messing up with some numbers, but it's no problem since we aren't expecting any predicting power from them."
   ]
  },
  {
   "cell_type": "markdown",
   "metadata": {},
   "source": [
    "### 1.4. Possessive pronouns"
   ]
  },
  {
   "cell_type": "markdown",
   "metadata": {},
   "source": [
    "We'll also remove possessive pronoun terminations:"
   ]
  },
  {
   "cell_type": "code",
   "execution_count": 71,
   "metadata": {},
   "outputs": [],
   "source": [
    "df['Content_Parsed_4'] = df['Content_Parsed_3'].str.replace(\"'s\", \"\")"
   ]
  },
  {
   "cell_type": "markdown",
   "metadata": {},
   "source": [
    "### 1.5. Stemming and Lemmatization\n",
    "\n",
    "Since stemming can produce output words that don't exist, we'll only use a lemmatization process at this moment. Lemmatization takes into consideration the morphological analysis of the words and returns words that do exist, so it will be more useful for us."
   ]
  },
  {
   "cell_type": "code",
   "execution_count": 72,
   "metadata": {},
   "outputs": [
    {
     "name": "stdout",
     "output_type": "stream",
     "text": [
      "------------------------------------------------------------\n"
     ]
    },
    {
     "name": "stderr",
     "output_type": "stream",
     "text": [
      "[nltk_data] Downloading package punkt to\n",
      "[nltk_data]     /Users/keerthanareddy/nltk_data...\n",
      "[nltk_data]   Package punkt is already up-to-date!\n",
      "[nltk_data] Downloading package wordnet to\n",
      "[nltk_data]     /Users/keerthanareddy/nltk_data...\n",
      "[nltk_data]   Package wordnet is already up-to-date!\n"
     ]
    },
    {
     "data": {
      "text/plain": [
       "True"
      ]
     },
     "execution_count": 72,
     "metadata": {},
     "output_type": "execute_result"
    }
   ],
   "source": [
    "# Downloading punkt and wordnet from NLTK\n",
    "nltk.download('punkt')\n",
    "print(\"------------------------------------------------------------\")\n",
    "nltk.download('wordnet')"
   ]
  },
  {
   "cell_type": "code",
   "execution_count": 73,
   "metadata": {},
   "outputs": [],
   "source": [
    "# Saving the lemmatizer into an object\n",
    "wordnet_lemmatizer = WordNetLemmatizer()"
   ]
  },
  {
   "cell_type": "markdown",
   "metadata": {},
   "source": [
    "In order to lemmatize, we have to iterate through every word:"
   ]
  },
  {
   "cell_type": "code",
   "execution_count": 74,
   "metadata": {},
   "outputs": [],
   "source": [
    "nrows = len(df)\n",
    "lemmatized_text_list = []\n",
    "\n",
    "for row in range(0, nrows):\n",
    "    \n",
    "    # Create an empty list containing lemmatized words\n",
    "    lemmatized_list = []\n",
    "    \n",
    "    # Save the text and its words into an object\n",
    "    text = df.loc[row]['Content_Parsed_4']\n",
    "    text_words = str(text).split(\" \")\n",
    "\n",
    "    # Iterate through every word to lemmatize\n",
    "    for word in text_words:\n",
    "        lemmatized_list.append(wordnet_lemmatizer.lemmatize(word, pos=\"v\"))\n",
    "        \n",
    "    # Join the list\n",
    "    lemmatized_text = \" \".join(lemmatized_list)\n",
    "    \n",
    "    # Append to the list containing the texts\n",
    "    lemmatized_text_list.append(lemmatized_text)"
   ]
  },
  {
   "cell_type": "code",
   "execution_count": 75,
   "metadata": {},
   "outputs": [],
   "source": [
    "df['Content_Parsed_5'] = lemmatized_text_list"
   ]
  },
  {
   "cell_type": "markdown",
   "metadata": {},
   "source": [
    "Although lemmatization doesn't work perfectly in all cases (as can be seen in the example below), it can be useful."
   ]
  },
  {
   "cell_type": "markdown",
   "metadata": {},
   "source": [
    "### 1.6. Stop words"
   ]
  },
  {
   "cell_type": "code",
   "execution_count": 76,
   "metadata": {},
   "outputs": [
    {
     "name": "stderr",
     "output_type": "stream",
     "text": [
      "[nltk_data] Downloading package stopwords to\n",
      "[nltk_data]     /Users/keerthanareddy/nltk_data...\n",
      "[nltk_data]   Package stopwords is already up-to-date!\n"
     ]
    },
    {
     "data": {
      "text/plain": [
       "True"
      ]
     },
     "execution_count": 76,
     "metadata": {},
     "output_type": "execute_result"
    }
   ],
   "source": [
    "# Downloading the stop words list\n",
    "nltk.download('stopwords')"
   ]
  },
  {
   "cell_type": "code",
   "execution_count": 77,
   "metadata": {},
   "outputs": [],
   "source": [
    "# Loading the stop words in english\n",
    "stop_words = list(stopwords.words('english'))"
   ]
  },
  {
   "cell_type": "code",
   "execution_count": 78,
   "metadata": {},
   "outputs": [
    {
     "data": {
      "text/plain": [
       "['i', 'me', 'my', 'myself', 'we', 'our', 'ours', 'ourselves', 'you', \"you're\"]"
      ]
     },
     "execution_count": 78,
     "metadata": {},
     "output_type": "execute_result"
    }
   ],
   "source": [
    "stop_words[0:10]"
   ]
  },
  {
   "cell_type": "markdown",
   "metadata": {},
   "source": [
    "To remove the stop words, we'll handle a regular expression only detecting whole words, as seen in the following example:"
   ]
  },
  {
   "cell_type": "code",
   "execution_count": 79,
   "metadata": {
    "scrolled": true
   },
   "outputs": [
    {
     "data": {
      "text/plain": [
       "'StopWord eating a meal'"
      ]
     },
     "execution_count": 79,
     "metadata": {},
     "output_type": "execute_result"
    }
   ],
   "source": [
    "example = \"me eating a meal\"\n",
    "word = \"me\"\n",
    "\n",
    "# The regular expression is:\n",
    "regex = r\"\\b\" + word + r\"\\b\"  # we need to build it like that to work properly\n",
    "\n",
    "re.sub(regex, \"StopWord\", example)"
   ]
  },
  {
   "cell_type": "markdown",
   "metadata": {},
   "source": [
    "We can now loop through all the stop words:"
   ]
  },
  {
   "cell_type": "code",
   "execution_count": 80,
   "metadata": {},
   "outputs": [
    {
     "name": "stderr",
     "output_type": "stream",
     "text": [
      "/var/folders/wx/mft315nd3gl_lnvrcrcphywr0000gn/T/ipykernel_9645/3814005232.py:6: FutureWarning: The default value of regex will change from True to False in a future version.\n",
      "  df['Content_Parsed_6'] = df['Content_Parsed_6'].str.replace(regex_stopword, '')\n"
     ]
    }
   ],
   "source": [
    "df['Content_Parsed_6'] = df['Content_Parsed_5']\n",
    "\n",
    "for stop_word in stop_words:\n",
    "\n",
    "    regex_stopword = r\"\\b\" + stop_word + r\"\\b\"\n",
    "    df['Content_Parsed_6'] = df['Content_Parsed_6'].str.replace(regex_stopword, '')"
   ]
  },
  {
   "cell_type": "markdown",
   "metadata": {},
   "source": [
    "We have some dobule/triple spaces between words because of the replacements. However, it's not a problem because we'll tokenize by the spaces later."
   ]
  },
  {
   "cell_type": "markdown",
   "metadata": {},
   "source": [
    "As an example, we'll show an original news article and its modifications throughout the process:"
   ]
  },
  {
   "cell_type": "code",
   "execution_count": 82,
   "metadata": {},
   "outputs": [
    {
     "data": {
      "text/plain": [
       "'Self-driving car dilemmas reveal that moral choices are not universal\\r\\nSurvey maps global variations in ethics for programming autonomous vehicles.\\r\\nAmy Maxmen\\r\\n  \\r\\n\\r\\nSelf-driving cars are being developed by several major technology companies and carmakers. credit: VCG/Getty\\r\\n\\r\\nWhen a driver slams on the brakes to avoid hitting a pedestrian crossing the road illegally, she is making a moral decision that shifts risk from the pedestrian to the people in the car. Self-driving cars might soon have to make such ethical judgments on their own â€” but settling on a universal moral code for the vehicles could be a thorny task, suggests a survey of 2.3 million people from around the world.\\r\\n\\r\\nThe largest ever survey of machine ethics1, published today in Nature, finds that many of the moral principles that guide a driverâ€™s decisions vary by country. For example, in a scenario in which some combination of pedestrians and passengers will die in a collision, people from relatively prosperous countries with strong institutions were less likely to spare a pedestrian who stepped into traffic illegally.\\r\\n\\r\\nâ€œPeople who think about machine ethics make it sound like you can come up with a perfect set of rules for robots, and what we show here with data is that there are no universal rules,â€\\x9d says Iyad Rahwan, a computer scientist at the Massachusetts Institute of Technology in Cambridge and a co-author of the study.\\r\\n\\r\\nThe survey, called the Moral Machine, laid out 13 scenarios in which someoneâ€™s death was inevitable. Respondents were asked to choose who to spare in situations that involved a mix of variables: young or old, rich or poor, more people or fewer.\\r\\n\\r\\nSurveys such as the Moral Machine can help to begin public discussions about these inevitable accidents that might foster trust. â€œWe need to come up with a social consensus,â€\\x9d she says, â€œabout which risks we are willing to take.â€\\x9d'"
      ]
     },
     "execution_count": 82,
     "metadata": {},
     "output_type": "execute_result"
    }
   ],
   "source": [
    "df.loc[2]['Content']"
   ]
  },
  {
   "cell_type": "markdown",
   "metadata": {},
   "source": [
    "1. Special character cleaning"
   ]
  },
  {
   "cell_type": "code",
   "execution_count": 83,
   "metadata": {},
   "outputs": [
    {
     "data": {
      "text/plain": [
       "'Self-driving car dilemmas reveal that moral choices are not universal  Survey maps global variations in ethics for programming autonomous vehicles.  Amy Maxmen  Self-driving cars are being developed by several major technology companies and carmakers. credit: VCG/Getty When a driver slams on the brakes to avoid hitting a pedestrian crossing the road illegally, she is making a moral decision that shifts risk from the pedestrian to the people in the car. Self-driving cars might soon have to make such ethical judgments on their own â€” but settling on a universal moral code for the vehicles could be a thorny task, suggests a survey of 2.3 million people from around the world. The largest ever survey of machine ethics1, published today in Nature, finds that many of the moral principles that guide a driverâ€™s decisions vary by country. For example, in a scenario in which some combination of pedestrians and passengers will die in a collision, people from relatively prosperous countries with strong institutions were less likely to spare a pedestrian who stepped into traffic illegally. â€œPeople who think about machine ethics make it sound like you can come up with a perfect set of rules for robots, and what we show here with data is that there are no universal rules,â€\\x9d says Iyad Rahwan, a computer scientist at the Massachusetts Institute of Technology in Cambridge and a co-author of the study. The survey, called the Moral Machine, laid out 13 scenarios in which someoneâ€™s death was inevitable. Respondents were asked to choose who to spare in situations that involved a mix of variables: young or old, rich or poor, more people or fewer. Surveys such as the Moral Machine can help to begin public discussions about these inevitable accidents that might foster trust. â€œWe need to come up with a social consensus,â€\\x9d she says, â€œabout which risks we are willing to take.â€\\x9d'"
      ]
     },
     "execution_count": 83,
     "metadata": {},
     "output_type": "execute_result"
    }
   ],
   "source": [
    "df.loc[2]['Content_Parsed_1']"
   ]
  },
  {
   "cell_type": "markdown",
   "metadata": {},
   "source": [
    "2. Upcase/downcase"
   ]
  },
  {
   "cell_type": "code",
   "execution_count": 84,
   "metadata": {},
   "outputs": [
    {
     "data": {
      "text/plain": [
       "'self-driving car dilemmas reveal that moral choices are not universal  survey maps global variations in ethics for programming autonomous vehicles.  amy maxmen  self-driving cars are being developed by several major technology companies and carmakers. credit: vcg/getty when a driver slams on the brakes to avoid hitting a pedestrian crossing the road illegally, she is making a moral decision that shifts risk from the pedestrian to the people in the car. self-driving cars might soon have to make such ethical judgments on their own â€” but settling on a universal moral code for the vehicles could be a thorny task, suggests a survey of 2.3 million people from around the world. the largest ever survey of machine ethics1, published today in nature, finds that many of the moral principles that guide a driverâ€™s decisions vary by country. for example, in a scenario in which some combination of pedestrians and passengers will die in a collision, people from relatively prosperous countries with strong institutions were less likely to spare a pedestrian who stepped into traffic illegally. â€œpeople who think about machine ethics make it sound like you can come up with a perfect set of rules for robots, and what we show here with data is that there are no universal rules,â€\\x9d says iyad rahwan, a computer scientist at the massachusetts institute of technology in cambridge and a co-author of the study. the survey, called the moral machine, laid out 13 scenarios in which someoneâ€™s death was inevitable. respondents were asked to choose who to spare in situations that involved a mix of variables: young or old, rich or poor, more people or fewer. surveys such as the moral machine can help to begin public discussions about these inevitable accidents that might foster trust. â€œwe need to come up with a social consensus,â€\\x9d she says, â€œabout which risks we are willing to take.â€\\x9d'"
      ]
     },
     "execution_count": 84,
     "metadata": {},
     "output_type": "execute_result"
    }
   ],
   "source": [
    "df.loc[2]['Content_Parsed_2']"
   ]
  },
  {
   "cell_type": "markdown",
   "metadata": {},
   "source": [
    "3. Punctuation signs"
   ]
  },
  {
   "cell_type": "code",
   "execution_count": 85,
   "metadata": {},
   "outputs": [
    {
     "data": {
      "text/plain": [
       "'self-driving car dilemmas reveal that moral choices are not universal  survey maps global variations in ethics for programming autonomous vehicles  amy maxmen  self-driving cars are being developed by several major technology companies and carmakers credit vcg/getty when a driver slams on the brakes to avoid hitting a pedestrian crossing the road illegally she is making a moral decision that shifts risk from the pedestrian to the people in the car self-driving cars might soon have to make such ethical judgments on their own â€” but settling on a universal moral code for the vehicles could be a thorny task suggests a survey of 23 million people from around the world the largest ever survey of machine ethics1 published today in nature finds that many of the moral principles that guide a driverâ€™s decisions vary by country for example in a scenario in which some combination of pedestrians and passengers will die in a collision people from relatively prosperous countries with strong institutions were less likely to spare a pedestrian who stepped into traffic illegally â€œpeople who think about machine ethics make it sound like you can come up with a perfect set of rules for robots and what we show here with data is that there are no universal rulesâ€\\x9d says iyad rahwan a computer scientist at the massachusetts institute of technology in cambridge and a co-author of the study the survey called the moral machine laid out 13 scenarios in which someoneâ€™s death was inevitable respondents were asked to choose who to spare in situations that involved a mix of variables young or old rich or poor more people or fewer surveys such as the moral machine can help to begin public discussions about these inevitable accidents that might foster trust â€œwe need to come up with a social consensusâ€\\x9d she says â€œabout which risks we are willing to takeâ€\\x9d'"
      ]
     },
     "execution_count": 85,
     "metadata": {},
     "output_type": "execute_result"
    }
   ],
   "source": [
    "df.loc[2]['Content_Parsed_3']"
   ]
  },
  {
   "cell_type": "markdown",
   "metadata": {},
   "source": [
    "4. Possessive pronouns"
   ]
  },
  {
   "cell_type": "code",
   "execution_count": 86,
   "metadata": {},
   "outputs": [
    {
     "data": {
      "text/plain": [
       "'self-driving car dilemmas reveal that moral choices are not universal  survey maps global variations in ethics for programming autonomous vehicles  amy maxmen  self-driving cars are being developed by several major technology companies and carmakers credit vcg/getty when a driver slams on the brakes to avoid hitting a pedestrian crossing the road illegally she is making a moral decision that shifts risk from the pedestrian to the people in the car self-driving cars might soon have to make such ethical judgments on their own â€” but settling on a universal moral code for the vehicles could be a thorny task suggests a survey of 23 million people from around the world the largest ever survey of machine ethics1 published today in nature finds that many of the moral principles that guide a driverâ€™s decisions vary by country for example in a scenario in which some combination of pedestrians and passengers will die in a collision people from relatively prosperous countries with strong institutions were less likely to spare a pedestrian who stepped into traffic illegally â€œpeople who think about machine ethics make it sound like you can come up with a perfect set of rules for robots and what we show here with data is that there are no universal rulesâ€\\x9d says iyad rahwan a computer scientist at the massachusetts institute of technology in cambridge and a co-author of the study the survey called the moral machine laid out 13 scenarios in which someoneâ€™s death was inevitable respondents were asked to choose who to spare in situations that involved a mix of variables young or old rich or poor more people or fewer surveys such as the moral machine can help to begin public discussions about these inevitable accidents that might foster trust â€œwe need to come up with a social consensusâ€\\x9d she says â€œabout which risks we are willing to takeâ€\\x9d'"
      ]
     },
     "execution_count": 86,
     "metadata": {},
     "output_type": "execute_result"
    }
   ],
   "source": [
    "df.loc[2]['Content_Parsed_4']"
   ]
  },
  {
   "cell_type": "markdown",
   "metadata": {},
   "source": [
    "5. Stemming and Lemmatization"
   ]
  },
  {
   "cell_type": "code",
   "execution_count": 88,
   "metadata": {},
   "outputs": [
    {
     "data": {
      "text/plain": [
       "'self-driving car dilemmas reveal that moral choices be not universal  survey map global variations in ethics for program autonomous vehicles  amy maxmen  self-driving cars be be develop by several major technology company and carmakers credit vcg/getty when a driver slam on the brake to avoid hit a pedestrian cross the road illegally she be make a moral decision that shift risk from the pedestrian to the people in the car self-driving cars might soon have to make such ethical judgments on their own â€” but settle on a universal moral code for the vehicles could be a thorny task suggest a survey of 23 million people from around the world the largest ever survey of machine ethics1 publish today in nature find that many of the moral principles that guide a driverâ€™s decisions vary by country for example in a scenario in which some combination of pedestrians and passengers will die in a collision people from relatively prosperous countries with strong institutions be less likely to spare a pedestrian who step into traffic illegally â€œpeople who think about machine ethics make it sound like you can come up with a perfect set of rule for robots and what we show here with data be that there be no universal rulesâ€\\x9d say iyad rahwan a computer scientist at the massachusetts institute of technology in cambridge and a co-author of the study the survey call the moral machine lay out 13 scenarios in which someoneâ€™s death be inevitable respondents be ask to choose who to spare in situations that involve a mix of variables young or old rich or poor more people or fewer survey such as the moral machine can help to begin public discussions about these inevitable accidents that might foster trust â€œwe need to come up with a social consensusâ€\\x9d she say â€œabout which risk we be will to takeâ€\\x9d'"
      ]
     },
     "execution_count": 88,
     "metadata": {},
     "output_type": "execute_result"
    }
   ],
   "source": [
    "df.loc[2]['Content_Parsed_5']"
   ]
  },
  {
   "cell_type": "markdown",
   "metadata": {},
   "source": [
    "6. Stop words"
   ]
  },
  {
   "cell_type": "code",
   "execution_count": 89,
   "metadata": {},
   "outputs": [
    {
     "data": {
      "text/plain": [
       "'self-driving car dilemmas reveal  moral choices   universal  survey map global variations  ethics  program autonomous vehicles  amy maxmen  self-driving cars   develop  several major technology company  carmakers credit vcg/getty   driver slam   brake  avoid hit  pedestrian cross  road illegally   make  moral decision  shift risk   pedestrian   people   car self-driving cars might soon   make  ethical judgments    â€”  settle   universal moral code   vehicles could   thorny task suggest  survey  23 million people  around  world  largest ever survey  machine ethics1 publish today  nature find  many   moral principles  guide  driverâ€™ decisions vary  country  example   scenario    combination  pedestrians  passengers  die   collision people  relatively prosperous countries  strong institutions  less likely  spare  pedestrian  step  traffic illegally â€œpeople  think  machine ethics make  sound like   come    perfect set  rule  robots    show   data      universal rulesâ€\\x9d say iyad rahwan  computer scientist   massachusetts institute  technology  cambridge   co-author   study  survey call  moral machine lay  13 scenarios   someoneâ€™ death  inevitable respondents  ask  choose   spare  situations  involve  mix  variables young  old rich  poor  people  fewer survey    moral machine  help  begin public discussions   inevitable accidents  might foster trust â€œwe need  come    social consensusâ€\\x9d  say â€œabout  risk     takeâ€\\x9d'"
      ]
     },
     "execution_count": 89,
     "metadata": {},
     "output_type": "execute_result"
    }
   ],
   "source": [
    "df.loc[2]['Content_Parsed_6']"
   ]
  },
  {
   "cell_type": "markdown",
   "metadata": {},
   "source": [
    "Finally, we can delete the intermediate columns:"
   ]
  },
  {
   "cell_type": "code",
   "execution_count": 90,
   "metadata": {},
   "outputs": [
    {
     "data": {
      "text/html": [
       "<div>\n",
       "<style scoped>\n",
       "    .dataframe tbody tr th:only-of-type {\n",
       "        vertical-align: middle;\n",
       "    }\n",
       "\n",
       "    .dataframe tbody tr th {\n",
       "        vertical-align: top;\n",
       "    }\n",
       "\n",
       "    .dataframe thead th {\n",
       "        text-align: right;\n",
       "    }\n",
       "</style>\n",
       "<table border=\"1\" class=\"dataframe\">\n",
       "  <thead>\n",
       "    <tr style=\"text-align: right;\">\n",
       "      <th></th>\n",
       "      <th>File_Name</th>\n",
       "      <th>Content</th>\n",
       "      <th>Category</th>\n",
       "      <th>Complete_Filename</th>\n",
       "      <th>id</th>\n",
       "      <th>News_length</th>\n",
       "      <th>Content_Parsed_1</th>\n",
       "      <th>Content_Parsed_2</th>\n",
       "      <th>Content_Parsed_3</th>\n",
       "      <th>Content_Parsed_4</th>\n",
       "      <th>Content_Parsed_5</th>\n",
       "      <th>Content_Parsed_6</th>\n",
       "    </tr>\n",
       "  </thead>\n",
       "  <tbody>\n",
       "    <tr>\n",
       "      <th>0</th>\n",
       "      <td>Autonomous_new_1.txt</td>\n",
       "      <td>Self-driving car dilemmas reveal that moral ch...</td>\n",
       "      <td>Audi</td>\n",
       "      <td>Autonomous_new_1.txt-Audi</td>\n",
       "      <td>1</td>\n",
       "      <td>3215</td>\n",
       "      <td>Self-driving car dilemmas reveal that moral ch...</td>\n",
       "      <td>self-driving car dilemmas reveal that moral ch...</td>\n",
       "      <td>self-driving car dilemmas reveal that moral ch...</td>\n",
       "      <td>self-driving car dilemmas reveal that moral ch...</td>\n",
       "      <td>self-driving car dilemmas reveal that moral ch...</td>\n",
       "      <td>self-driving car dilemmas reveal  moral choice...</td>\n",
       "    </tr>\n",
       "  </tbody>\n",
       "</table>\n",
       "</div>"
      ],
      "text/plain": [
       "              File_Name                                            Content  \\\n",
       "0  Autonomous_new_1.txt  Self-driving car dilemmas reveal that moral ch...   \n",
       "\n",
       "  Category          Complete_Filename  id  News_length  \\\n",
       "0     Audi  Autonomous_new_1.txt-Audi   1         3215   \n",
       "\n",
       "                                    Content_Parsed_1  \\\n",
       "0  Self-driving car dilemmas reveal that moral ch...   \n",
       "\n",
       "                                    Content_Parsed_2  \\\n",
       "0  self-driving car dilemmas reveal that moral ch...   \n",
       "\n",
       "                                    Content_Parsed_3  \\\n",
       "0  self-driving car dilemmas reveal that moral ch...   \n",
       "\n",
       "                                    Content_Parsed_4  \\\n",
       "0  self-driving car dilemmas reveal that moral ch...   \n",
       "\n",
       "                                    Content_Parsed_5  \\\n",
       "0  self-driving car dilemmas reveal that moral ch...   \n",
       "\n",
       "                                    Content_Parsed_6  \n",
       "0  self-driving car dilemmas reveal  moral choice...  "
      ]
     },
     "execution_count": 90,
     "metadata": {},
     "output_type": "execute_result"
    }
   ],
   "source": [
    "df.head(1)"
   ]
  },
  {
   "cell_type": "code",
   "execution_count": 91,
   "metadata": {},
   "outputs": [],
   "source": [
    "list_columns = [\"File_Name\", \"Category\", \"Content\", \"Content_Parsed_6\"]\n",
    "df = df[list_columns]\n",
    "\n",
    "df = df.rename(columns={'Content_Parsed_6': 'Content_Parsed'})"
   ]
  },
  {
   "cell_type": "code",
   "execution_count": 92,
   "metadata": {
    "scrolled": true
   },
   "outputs": [
    {
     "data": {
      "text/html": [
       "<div>\n",
       "<style scoped>\n",
       "    .dataframe tbody tr th:only-of-type {\n",
       "        vertical-align: middle;\n",
       "    }\n",
       "\n",
       "    .dataframe tbody tr th {\n",
       "        vertical-align: top;\n",
       "    }\n",
       "\n",
       "    .dataframe thead th {\n",
       "        text-align: right;\n",
       "    }\n",
       "</style>\n",
       "<table border=\"1\" class=\"dataframe\">\n",
       "  <thead>\n",
       "    <tr style=\"text-align: right;\">\n",
       "      <th></th>\n",
       "      <th>File_Name</th>\n",
       "      <th>Category</th>\n",
       "      <th>Content</th>\n",
       "      <th>Content_Parsed</th>\n",
       "    </tr>\n",
       "  </thead>\n",
       "  <tbody>\n",
       "    <tr>\n",
       "      <th>0</th>\n",
       "      <td>Autonomous_new_1.txt</td>\n",
       "      <td>Audi</td>\n",
       "      <td>Self-driving car dilemmas reveal that moral ch...</td>\n",
       "      <td>self-driving car dilemmas reveal  moral choice...</td>\n",
       "    </tr>\n",
       "    <tr>\n",
       "      <th>1</th>\n",
       "      <td>Atonomous_new_3.txt</td>\n",
       "      <td>BMW</td>\n",
       "      <td>Self-driving car dilemmas reveal that moral ch...</td>\n",
       "      <td>self-driving car dilemmas reveal  moral choice...</td>\n",
       "    </tr>\n",
       "    <tr>\n",
       "      <th>2</th>\n",
       "      <td>Autonomous_new_2.txt</td>\n",
       "      <td>Tesla</td>\n",
       "      <td>Self-driving car dilemmas reveal that moral ch...</td>\n",
       "      <td>self-driving car dilemmas reveal  moral choice...</td>\n",
       "    </tr>\n",
       "  </tbody>\n",
       "</table>\n",
       "</div>"
      ],
      "text/plain": [
       "              File_Name Category  \\\n",
       "0  Autonomous_new_1.txt     Audi   \n",
       "1   Atonomous_new_3.txt      BMW   \n",
       "2  Autonomous_new_2.txt    Tesla   \n",
       "\n",
       "                                             Content  \\\n",
       "0  Self-driving car dilemmas reveal that moral ch...   \n",
       "1  Self-driving car dilemmas reveal that moral ch...   \n",
       "2  Self-driving car dilemmas reveal that moral ch...   \n",
       "\n",
       "                                      Content_Parsed  \n",
       "0  self-driving car dilemmas reveal  moral choice...  \n",
       "1  self-driving car dilemmas reveal  moral choice...  \n",
       "2  self-driving car dilemmas reveal  moral choice...  "
      ]
     },
     "execution_count": 92,
     "metadata": {},
     "output_type": "execute_result"
    }
   ],
   "source": [
    "df.head()"
   ]
  },
  {
   "cell_type": "markdown",
   "metadata": {},
   "source": [
    "**IMPORTANT:**\n",
    "\n",
    "We need to remember that our model will gather the latest news articles from different newspapers every time we want. For that reason, we not only need to take into account the peculiarities of the training set articles, but also possible ones that are present in the gathered news articles.\n",
    "\n",
    "For this reason, possible peculiarities have been studied in the *05. News Scraping* folder."
   ]
  },
  {
   "cell_type": "markdown",
   "metadata": {},
   "source": [
    "## 2. Label coding"
   ]
  },
  {
   "cell_type": "markdown",
   "metadata": {},
   "source": [
    "We'll create a dictionary with the label codification:"
   ]
  },
  {
   "cell_type": "code",
   "execution_count": 93,
   "metadata": {},
   "outputs": [],
   "source": [
    "category_codes = {\n",
    "    'business': 0,\n",
    "    'entertainment': 1,\n",
    "    'politics': 2,\n",
    "    'sport': 3,\n",
    "    'tech': 4\n",
    "}"
   ]
  },
  {
   "cell_type": "code",
   "execution_count": 94,
   "metadata": {},
   "outputs": [],
   "source": [
    "# Category mapping\n",
    "df['Category_Code'] = df['Category']\n",
    "df = df.replace({'Category_Code':category_codes})"
   ]
  },
  {
   "cell_type": "code",
   "execution_count": 95,
   "metadata": {
    "scrolled": true
   },
   "outputs": [
    {
     "data": {
      "text/html": [
       "<div>\n",
       "<style scoped>\n",
       "    .dataframe tbody tr th:only-of-type {\n",
       "        vertical-align: middle;\n",
       "    }\n",
       "\n",
       "    .dataframe tbody tr th {\n",
       "        vertical-align: top;\n",
       "    }\n",
       "\n",
       "    .dataframe thead th {\n",
       "        text-align: right;\n",
       "    }\n",
       "</style>\n",
       "<table border=\"1\" class=\"dataframe\">\n",
       "  <thead>\n",
       "    <tr style=\"text-align: right;\">\n",
       "      <th></th>\n",
       "      <th>File_Name</th>\n",
       "      <th>Category</th>\n",
       "      <th>Content</th>\n",
       "      <th>Content_Parsed</th>\n",
       "      <th>Category_Code</th>\n",
       "    </tr>\n",
       "  </thead>\n",
       "  <tbody>\n",
       "    <tr>\n",
       "      <th>0</th>\n",
       "      <td>Autonomous_new_1.txt</td>\n",
       "      <td>Audi</td>\n",
       "      <td>Self-driving car dilemmas reveal that moral ch...</td>\n",
       "      <td>self-driving car dilemmas reveal  moral choice...</td>\n",
       "      <td>Audi</td>\n",
       "    </tr>\n",
       "    <tr>\n",
       "      <th>1</th>\n",
       "      <td>Atonomous_new_3.txt</td>\n",
       "      <td>BMW</td>\n",
       "      <td>Self-driving car dilemmas reveal that moral ch...</td>\n",
       "      <td>self-driving car dilemmas reveal  moral choice...</td>\n",
       "      <td>BMW</td>\n",
       "    </tr>\n",
       "    <tr>\n",
       "      <th>2</th>\n",
       "      <td>Autonomous_new_2.txt</td>\n",
       "      <td>Tesla</td>\n",
       "      <td>Self-driving car dilemmas reveal that moral ch...</td>\n",
       "      <td>self-driving car dilemmas reveal  moral choice...</td>\n",
       "      <td>Tesla</td>\n",
       "    </tr>\n",
       "  </tbody>\n",
       "</table>\n",
       "</div>"
      ],
      "text/plain": [
       "              File_Name Category  \\\n",
       "0  Autonomous_new_1.txt     Audi   \n",
       "1   Atonomous_new_3.txt      BMW   \n",
       "2  Autonomous_new_2.txt    Tesla   \n",
       "\n",
       "                                             Content  \\\n",
       "0  Self-driving car dilemmas reveal that moral ch...   \n",
       "1  Self-driving car dilemmas reveal that moral ch...   \n",
       "2  Self-driving car dilemmas reveal that moral ch...   \n",
       "\n",
       "                                      Content_Parsed Category_Code  \n",
       "0  self-driving car dilemmas reveal  moral choice...          Audi  \n",
       "1  self-driving car dilemmas reveal  moral choice...           BMW  \n",
       "2  self-driving car dilemmas reveal  moral choice...         Tesla  "
      ]
     },
     "execution_count": 95,
     "metadata": {},
     "output_type": "execute_result"
    }
   ],
   "source": [
    "df.head()"
   ]
  },
  {
   "cell_type": "markdown",
   "metadata": {},
   "source": [
    "## 3. Train - test split"
   ]
  },
  {
   "cell_type": "markdown",
   "metadata": {},
   "source": [
    "We'll set apart a test set to prove the quality of our models. We'll do Cross Validation in the train set in order to tune the hyperparameters and then test performance on the unseen data of the test set."
   ]
  },
  {
   "cell_type": "code",
   "execution_count": 96,
   "metadata": {},
   "outputs": [],
   "source": [
    "X_train, X_test, y_train, y_test = train_test_split(df['Content_Parsed'], \n",
    "                                                    df['Category_Code'], \n",
    "                                                    test_size=0.15, \n",
    "                                                    random_state=8)"
   ]
  },
  {
   "cell_type": "markdown",
   "metadata": {},
   "source": [
    "Since we don't have much observations (only 2.225), we'll choose a test set size of 15% of the full dataset."
   ]
  },
  {
   "cell_type": "markdown",
   "metadata": {},
   "source": [
    "## 4. Text representation"
   ]
  },
  {
   "cell_type": "markdown",
   "metadata": {},
   "source": [
    "We have various options:\n",
    "\n",
    "* Count Vectors as features\n",
    "* TF-IDF Vectors as features\n",
    "* Word Embeddings as features\n",
    "* Text / NLP based features\n",
    "* Topic Models as features"
   ]
  },
  {
   "cell_type": "markdown",
   "metadata": {},
   "source": [
    "We'll use **TF-IDF Vectors** as features."
   ]
  },
  {
   "cell_type": "markdown",
   "metadata": {},
   "source": [
    "We have to define the different parameters:\n",
    "\n",
    "* `ngram_range`: We want to consider both unigrams and bigrams.\n",
    "* `max_df`: When building the vocabulary ignore terms that have a document\n",
    "    frequency strictly higher than the given threshold\n",
    "* `min_df`: When building the vocabulary ignore terms that have a document\n",
    "    frequency strictly lower than the given threshold.\n",
    "* `max_features`: If not None, build a vocabulary that only consider the top\n",
    "    max_features ordered by term frequency across the corpus.\n",
    "\n",
    "See `TfidfVectorizer?` for further detail."
   ]
  },
  {
   "cell_type": "markdown",
   "metadata": {},
   "source": [
    "It needs to be mentioned that we are implicitly scaling our data when representing it as TF-IDF features with the argument `norm`."
   ]
  },
  {
   "cell_type": "code",
   "execution_count": 101,
   "metadata": {},
   "outputs": [],
   "source": [
    "# Parameter election\n",
    "ngram_range = (1,2)\n",
    "min_df = 1\n",
    "max_df = 10\n",
    "max_features = 300"
   ]
  },
  {
   "cell_type": "markdown",
   "metadata": {},
   "source": [
    "We have chosen these values as a first approximation. Since the models that we develop later have a very good predictive power, we'll stick to these values. But it has to be mentioned that different combinations could be tried in order to improve even more the accuracy of the models."
   ]
  },
  {
   "cell_type": "code",
   "execution_count": 102,
   "metadata": {
    "scrolled": true
   },
   "outputs": [
    {
     "name": "stdout",
     "output_type": "stream",
     "text": [
      "(2, 300)\n",
      "(1, 300)\n"
     ]
    }
   ],
   "source": [
    "tfidf = TfidfVectorizer(encoding='utf-8',\n",
    "                        ngram_range=ngram_range,\n",
    "                        stop_words=None,\n",
    "                        lowercase=False,\n",
    "                        max_df=max_df,\n",
    "                        min_df=min_df,\n",
    "                        max_features=max_features,\n",
    "                        norm='',\n",
    "                        sublinear_tf=True)\n",
    "                        \n",
    "features_train = tfidf.fit_transform(X_train).toarray()\n",
    "labels_train = y_train\n",
    "print(features_train.shape)\n",
    "\n",
    "features_test = tfidf.transform(X_test).toarray()\n",
    "labels_test = y_test\n",
    "print(features_test.shape)"
   ]
  },
  {
   "cell_type": "markdown",
   "metadata": {},
   "source": [
    "Please note that we have fitted and then transformed the training set, but we have **only transformed** the **test set**."
   ]
  },
  {
   "cell_type": "markdown",
   "metadata": {},
   "source": [
    "We can use the Chi squared test in order to see what unigrams and bigrams are most correlated with each category:"
   ]
  },
  {
   "cell_type": "code",
   "execution_count": 103,
   "metadata": {},
   "outputs": [
    {
     "name": "stdout",
     "output_type": "stream",
     "text": [
      "# 'business' category:\n",
      "  . Most correlated unigrams:\n",
      ". likelihood\n",
      ". life\n",
      ". level\n",
      ". less\n",
      ". œwe\n",
      "  . Most correlated bigrams:\n",
      ". least five\n",
      ". law professor\n",
      "\n",
      "# 'entertainment' category:\n",
      "  . Most correlated unigrams:\n",
      ". likelihood\n",
      ". life\n",
      ". level\n",
      ". less\n",
      ". œwe\n",
      "  . Most correlated bigrams:\n",
      ". least five\n",
      ". law professor\n",
      "\n",
      "# 'politics' category:\n",
      "  . Most correlated unigrams:\n",
      ". likelihood\n",
      ". life\n",
      ". level\n",
      ". less\n",
      ". œwe\n",
      "  . Most correlated bigrams:\n",
      ". least five\n",
      ". law professor\n",
      "\n",
      "# 'sport' category:\n",
      "  . Most correlated unigrams:\n",
      ". likelihood\n",
      ". life\n",
      ". level\n",
      ". less\n",
      ". œwe\n",
      "  . Most correlated bigrams:\n",
      ". least five\n",
      ". law professor\n",
      "\n",
      "# 'tech' category:\n",
      "  . Most correlated unigrams:\n",
      ". likelihood\n",
      ". life\n",
      ". level\n",
      ". less\n",
      ". œwe\n",
      "  . Most correlated bigrams:\n",
      ". least five\n",
      ". law professor\n",
      "\n"
     ]
    }
   ],
   "source": [
    "from sklearn.feature_selection import chi2\n",
    "import numpy as np\n",
    "\n",
    "for Product, category_id in sorted(category_codes.items()):\n",
    "    features_chi2 = chi2(features_train, labels_train == category_id)\n",
    "    indices = np.argsort(features_chi2[0])\n",
    "    feature_names = np.array(tfidf.get_feature_names())[indices]\n",
    "    unigrams = [v for v in feature_names if len(v.split(' ')) == 1]\n",
    "    bigrams = [v for v in feature_names if len(v.split(' ')) == 2]\n",
    "    print(\"# '{}' category:\".format(Product))\n",
    "    print(\"  . Most correlated unigrams:\\n. {}\".format('\\n. '.join(unigrams[-5:])))\n",
    "    print(\"  . Most correlated bigrams:\\n. {}\".format('\\n. '.join(bigrams[-2:])))\n",
    "    print(\"\")\n"
   ]
  },
  {
   "cell_type": "markdown",
   "metadata": {},
   "source": [
    "As we can see, the unigrams correspond well to their category. However, bigrams do not. If we get the bigrams in our features:"
   ]
  },
  {
   "cell_type": "code",
   "execution_count": 104,
   "metadata": {},
   "outputs": [
    {
     "data": {
      "text/plain": [
       "['road increase',\n",
       " 'road illegally',\n",
       " 'practical use',\n",
       " 'say scenarios',\n",
       " 'say study',\n",
       " 'studyâ author',\n",
       " 'study valuable',\n",
       " 'study unrealistic',\n",
       " 'self driving',\n",
       " 'political policies',\n",
       " 'policies favor',\n",
       " 'pedestrian cross',\n",
       " 'passengers die',\n",
       " 'oncoming vehicle',\n",
       " 'number driverless',\n",
       " 'norms support',\n",
       " 'need come',\n",
       " 'pedestrian people',\n",
       " 'pedestrian step',\n",
       " 'pedestrians passengers',\n",
       " 'policies express',\n",
       " 'play gamesâ',\n",
       " 'place lower',\n",
       " 'peopleâ moral',\n",
       " 'people œi',\n",
       " 'people relatively',\n",
       " 'people play',\n",
       " 'people car',\n",
       " 'people around',\n",
       " 'suggest survey',\n",
       " 'support policies',\n",
       " 'walker smith',\n",
       " 'vehicles could',\n",
       " 'valuable wege',\n",
       " 'use say',\n",
       " 'use bryant',\n",
       " 'us cities',\n",
       " 'unrealistic instance',\n",
       " 'œabout risk',\n",
       " 'yet sale',\n",
       " 'year events',\n",
       " 'would face',\n",
       " 'would cause',\n",
       " 'worry automate',\n",
       " 'world largest',\n",
       " 'wide use',\n",
       " 'university south',\n",
       " 'university british',\n",
       " 'technology company',\n",
       " 'task suggest',\n",
       " 'survey really',\n",
       " 'survey practical',\n",
       " 'survey moral',\n",
       " 'survey map',\n",
       " 'survey machine',\n",
       " 'survey 23',\n",
       " 'test versions',\n",
       " 'universal survey',\n",
       " 'universal moral',\n",
       " 'type people',\n",
       " 'two different',\n",
       " 'trust œwe',\n",
       " 'truck wide',\n",
       " 'traffic illegally',\n",
       " 'today nature',\n",
       " 'thorny task',\n",
       " 'nature find',\n",
       " 'help begin',\n",
       " 'head group',\n",
       " 'guide driverâ',\n",
       " 'group focus',\n",
       " 'global variations',\n",
       " 'getty driver',\n",
       " 'germany say',\n",
       " 'hit oncoming',\n",
       " 'hit pedestrian',\n",
       " 'inequality political',\n",
       " 'increase likelihood',\n",
       " 'increase chance',\n",
       " 'income inequality',\n",
       " 'illegally make',\n",
       " 'human drivers',\n",
       " 'hope self',\n",
       " 'cars might',\n",
       " 'autonomous vehicles',\n",
       " 'autonomous vehicle',\n",
       " 'author say',\n",
       " 'inevitable accidents',\n",
       " 'driving cars',\n",
       " 'driving car',\n",
       " 'drivers make',\n",
       " 'driverless cars',\n",
       " 'cross road',\n",
       " 'countries strong',\n",
       " 'ingolstadt germany',\n",
       " 'maxmen self',\n",
       " 'map global',\n",
       " 'many moral',\n",
       " 'manufacturers hope',\n",
       " 'make routinely',\n",
       " 'make moral',\n",
       " 'make ethical',\n",
       " 'major technology',\n",
       " 'might foster',\n",
       " 'machine survey',\n",
       " 'might receive',\n",
       " 'might well',\n",
       " 'mountain road',\n",
       " 'moral principles',\n",
       " 'moral preferences',\n",
       " 'moral norms',\n",
       " 'moral machine',\n",
       " 'moral judgements',\n",
       " 'moral decision',\n",
       " 'moral code',\n",
       " 'moral choices',\n",
       " 'minor moral',\n",
       " 'million people',\n",
       " 'might soon',\n",
       " 'œi might',\n",
       " 'machine help',\n",
       " 'judgments settle',\n",
       " 'judgements human',\n",
       " 'involve robots',\n",
       " 'involve accidents',\n",
       " 'interest suggest',\n",
       " 'institutions less',\n",
       " 'instance real',\n",
       " 'largest ever',\n",
       " 'machine ethics1',\n",
       " 'lower level',\n",
       " 'listen barbara',\n",
       " 'likely spare',\n",
       " 'likelihood involve',\n",
       " 'life vehicle',\n",
       " 'level income',\n",
       " 'less likely',\n",
       " 'least five',\n",
       " 'law professor']"
      ]
     },
     "execution_count": 104,
     "metadata": {},
     "output_type": "execute_result"
    }
   ],
   "source": [
    "bigrams"
   ]
  },
  {
   "cell_type": "markdown",
   "metadata": {},
   "source": [
    "We can see there are only six. This means the unigrams have more correlation with the category than the bigrams, and since we're restricting the number of features to the most representative 300, only a few bigrams are being considered."
   ]
  },
  {
   "cell_type": "markdown",
   "metadata": {},
   "source": [
    "Let's save the files we'll need in the next steps:"
   ]
  },
  {
   "cell_type": "code",
   "execution_count": 105,
   "metadata": {},
   "outputs": [],
   "source": [
    "# X_train\n",
    "with open('/Users/keerthanareddy/Downloads/Latest-News-Classifier-master/0. Latest News Classifier/03. Feature Engineering/Pickles/X_train.pickle', 'wb') as output:\n",
    "    pickle.dump(X_train, output)\n",
    "    \n",
    "# X_test    \n",
    "with open('/Users/keerthanareddy/Downloads/Latest-News-Classifier-master/0. Latest News Classifier/03. Feature Engineering/Pickles/X_test.pickle', 'wb') as output:\n",
    "    pickle.dump(X_test, output)\n",
    "    \n",
    "# y_train\n",
    "with open('/Users/keerthanareddy/Downloads/Latest-News-Classifier-master/0. Latest News Classifier/03. Feature Engineering/Pickles/y_train.pickle', 'wb') as output:\n",
    "    pickle.dump(y_train, output)\n",
    "    \n",
    "# y_test\n",
    "with open('/Users/keerthanareddy/Downloads/Latest-News-Classifier-master/0. Latest News Classifier/03. Feature Engineering/Pickles/y_test.pickle', 'wb') as output:\n",
    "    pickle.dump(y_test, output)\n",
    "    \n",
    "# df\n",
    "with open('/Users/keerthanareddy/Downloads/Latest-News-Classifier-master/0. Latest News Classifier/03. Feature Engineering/Pickles/df.pickle', 'wb') as output:\n",
    "    pickle.dump(df, output)\n",
    "    \n",
    "# features_train\n",
    "with open('/Users/keerthanareddy/Downloads/Latest-News-Classifier-master/0. Latest News Classifier/03. Feature Engineering/Pickles/features_train.pickle', 'wb') as output:\n",
    "    pickle.dump(features_train, output)\n",
    "\n",
    "# labels_train\n",
    "with open('/Users/keerthanareddy/Downloads/Latest-News-Classifier-master/0. Latest News Classifier/03. Feature Engineering/Pickles/labels_train.pickle', 'wb') as output:\n",
    "    pickle.dump(labels_train, output)\n",
    "\n",
    "# features_test\n",
    "with open('/Users/keerthanareddy/Downloads/Latest-News-Classifier-master/0. Latest News Classifier/03. Feature Engineering/Pickles/features_test.pickle', 'wb') as output:\n",
    "    pickle.dump(features_test, output)\n",
    "\n",
    "# labels_test\n",
    "with open('/Users/keerthanareddy/Downloads/Latest-News-Classifier-master/0. Latest News Classifier/03. Feature Engineering/Pickles/labels_test.pickle', 'wb') as output:\n",
    "    pickle.dump(labels_test, output)\n",
    "    \n",
    "# TF-IDF object\n",
    "with open('/Users/keerthanareddy/Downloads/Latest-News-Classifier-master/0. Latest News Classifier/03. Feature Engineering/Pickles/tfidf.pickle', 'wb') as output:\n",
    "    pickle.dump(tfidf, output)"
   ]
  },
  {
   "cell_type": "code",
   "execution_count": null,
   "metadata": {},
   "outputs": [],
   "source": []
  },
  {
   "cell_type": "code",
   "execution_count": null,
   "metadata": {},
   "outputs": [],
   "source": []
  }
 ],
 "metadata": {
  "kernelspec": {
   "display_name": "Python 3 (ipykernel)",
   "language": "python",
   "name": "python3"
  },
  "language_info": {
   "codemirror_mode": {
    "name": "ipython",
    "version": 3
   },
   "file_extension": ".py",
   "mimetype": "text/x-python",
   "name": "python",
   "nbconvert_exporter": "python",
   "pygments_lexer": "ipython3",
   "version": "3.8.11"
  }
 },
 "nbformat": 4,
 "nbformat_minor": 2
}
